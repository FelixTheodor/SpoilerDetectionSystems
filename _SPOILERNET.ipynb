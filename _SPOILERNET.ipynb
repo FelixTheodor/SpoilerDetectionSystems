{
 "cells": [
  {
   "cell_type": "markdown",
   "metadata": {},
   "source": [
    "Import modules and read + split input df"
   ]
  },
  {
   "cell_type": "code",
   "execution_count": 1,
   "metadata": {
    "execution": {
     "iopub.execute_input": "2022-09-24T09:06:17.970336Z",
     "iopub.status.busy": "2022-09-24T09:06:17.969542Z",
     "iopub.status.idle": "2022-09-24T09:06:22.767419Z",
     "shell.execute_reply": "2022-09-24T09:06:22.766595Z",
     "shell.execute_reply.started": "2022-09-24T09:06:17.970229Z"
    },
    "id": "UQttty-9FzG7"
   },
   "outputs": [],
   "source": [
    "import numpy as np\n",
    "import torch\n",
    "import matplotlib.pyplot as plt\n",
    "from PIL import Image\n",
    "import pandas as pd\n",
    "from sklearn.metrics import precision_recall_fscore_support, roc_curve\n",
    "from sklearn.metrics import auc, roc_auc_score\n",
    "from sklearn.model_selection import train_test_split\n",
    "import torch\n",
    "import tqdm"
   ]
  },
  {
   "cell_type": "code",
   "execution_count": 2,
   "metadata": {
    "execution": {
     "iopub.execute_input": "2022-09-24T09:06:22.781148Z",
     "iopub.status.busy": "2022-09-24T09:06:22.780502Z",
     "iopub.status.idle": "2022-09-24T09:06:35.848484Z",
     "shell.execute_reply": "2022-09-24T09:06:35.847999Z",
     "shell.execute_reply.started": "2022-09-24T09:06:22.781121Z"
    },
    "id": "hxO7NuZDSz1A"
   },
   "outputs": [
    {
     "data": {
      "text/html": [
       "<div>\n",
       "<style scoped>\n",
       "    .dataframe tbody tr th:only-of-type {\n",
       "        vertical-align: middle;\n",
       "    }\n",
       "\n",
       "    .dataframe tbody tr th {\n",
       "        vertical-align: top;\n",
       "    }\n",
       "\n",
       "    .dataframe thead th {\n",
       "        text-align: right;\n",
       "    }\n",
       "</style>\n",
       "<table border=\"1\" class=\"dataframe\">\n",
       "  <thead>\n",
       "    <tr style=\"text-align: right;\">\n",
       "      <th></th>\n",
       "      <th>pp_sent</th>\n",
       "      <th>spoiler</th>\n",
       "      <th>pp_prev</th>\n",
       "      <th>pp_next</th>\n",
       "    </tr>\n",
       "  </thead>\n",
       "  <tbody>\n",
       "    <tr>\n",
       "      <th>0</th>\n",
       "      <td>special book</td>\n",
       "      <td>0</td>\n",
       "      <td></td>\n",
       "      <td>start slow first third middl third start get i...</td>\n",
       "    </tr>\n",
       "    <tr>\n",
       "      <th>1</th>\n",
       "      <td>start slow first third middl third start get i...</td>\n",
       "      <td>0</td>\n",
       "      <td>special book</td>\n",
       "      <td>love good scienc fiction push think thing go</td>\n",
       "    </tr>\n",
       "    <tr>\n",
       "      <th>2</th>\n",
       "      <td>love good scienc fiction push think thing go</td>\n",
       "      <td>0</td>\n",
       "      <td>start slow first third middl third start get i...</td>\n",
       "      <td>2015 hugo winner translat origin chines made i...</td>\n",
       "    </tr>\n",
       "    <tr>\n",
       "      <th>3</th>\n",
       "      <td>2015 hugo winner translat origin chines made i...</td>\n",
       "      <td>0</td>\n",
       "      <td>love good scienc fiction push think thing go</td>\n",
       "      <td>instanc intermix chines revolutionari histori ...</td>\n",
       "    </tr>\n",
       "    <tr>\n",
       "      <th>4</th>\n",
       "      <td>instanc intermix chines revolutionari histori ...</td>\n",
       "      <td>0</td>\n",
       "      <td>2015 hugo winner translat origin chines made i...</td>\n",
       "      <td>book scienc alien</td>\n",
       "    </tr>\n",
       "  </tbody>\n",
       "</table>\n",
       "</div>"
      ],
      "text/plain": [
       "                                             pp_sent  spoiler  \\\n",
       "0                                       special book        0   \n",
       "1  start slow first third middl third start get i...        0   \n",
       "2       love good scienc fiction push think thing go        0   \n",
       "3  2015 hugo winner translat origin chines made i...        0   \n",
       "4  instanc intermix chines revolutionari histori ...        0   \n",
       "\n",
       "                                             pp_prev  \\\n",
       "0                                                      \n",
       "1                                       special book   \n",
       "2  start slow first third middl third start get i...   \n",
       "3       love good scienc fiction push think thing go   \n",
       "4  2015 hugo winner translat origin chines made i...   \n",
       "\n",
       "                                             pp_next  \n",
       "0  start slow first third middl third start get i...  \n",
       "1       love good scienc fiction push think thing go  \n",
       "2  2015 hugo winner translat origin chines made i...  \n",
       "3  instanc intermix chines revolutionari histori ...  \n",
       "4                                  book scienc alien  "
      ]
     },
     "execution_count": 2,
     "metadata": {},
     "output_type": "execute_result"
    }
   ],
   "source": [
    "## Reading dataset\n",
    "\n",
    "full_df = pd.read_json(\"data/raw/pp_context.json.gz\", compression='infer', lines=True)\n",
    "full_df.head()"
   ]
  },
  {
   "cell_type": "code",
   "execution_count": 3,
   "metadata": {
    "execution": {
     "iopub.execute_input": "2022-09-24T09:06:35.850010Z",
     "iopub.status.busy": "2022-09-24T09:06:35.849815Z",
     "iopub.status.idle": "2022-09-24T09:06:35.855529Z",
     "shell.execute_reply": "2022-09-24T09:06:35.854785Z",
     "shell.execute_reply.started": "2022-09-24T09:06:35.849989Z"
    },
    "id": "SH1DpYN3JuDf"
   },
   "outputs": [
    {
     "data": {
      "text/plain": [
       "(2357349, 100000)"
      ]
     },
     "execution_count": 3,
     "metadata": {},
     "output_type": "execute_result"
    }
   ],
   "source": [
    "full_df, validate_df = full_df.iloc[100000:], full_df.iloc[:100000]\n",
    "#validate_df = full_df.iloc[range(1, len(full_df), 2)]\n",
    "#full_df = full_df.iloc[range(0, len(full_df), 2)]\n",
    "\n",
    "len(full_df), len(validate_df)"
   ]
  },
  {
   "cell_type": "markdown",
   "metadata": {
    "id": "jM6XwVQxhBC6"
   },
   "source": [
    "Generate vocab and embeddings inplace of df sents"
   ]
  },
  {
   "cell_type": "code",
   "execution_count": 4,
   "metadata": {
    "execution": {
     "iopub.execute_input": "2022-09-24T09:06:35.856428Z",
     "iopub.status.busy": "2022-09-24T09:06:35.856269Z",
     "iopub.status.idle": "2022-09-24T09:06:35.859687Z",
     "shell.execute_reply": "2022-09-24T09:06:35.859250Z",
     "shell.execute_reply.started": "2022-09-24T09:06:35.856409Z"
    },
    "id": "VB_zs9syhop8"
   },
   "outputs": [],
   "source": [
    "vocab = set()\n",
    "word_to_id = dict()\n",
    "id_to_word = dict()\n",
    "word_to_count = dict()\n",
    "vocab_size = 1"
   ]
  },
  {
   "cell_type": "code",
   "execution_count": 5,
   "metadata": {
    "execution": {
     "iopub.execute_input": "2022-09-24T09:06:35.861560Z",
     "iopub.status.busy": "2022-09-24T09:06:35.860961Z",
     "iopub.status.idle": "2022-09-24T09:06:35.864454Z",
     "shell.execute_reply": "2022-09-24T09:06:35.863996Z",
     "shell.execute_reply.started": "2022-09-24T09:06:35.861536Z"
    },
    "id": "Okgsyx8uhrpV"
   },
   "outputs": [],
   "source": [
    "max_len = 500 # placeholder value"
   ]
  },
  {
   "cell_type": "code",
   "execution_count": 6,
   "metadata": {
    "execution": {
     "iopub.execute_input": "2022-09-24T09:06:35.865212Z",
     "iopub.status.busy": "2022-09-24T09:06:35.865058Z",
     "iopub.status.idle": "2022-09-24T09:06:35.868349Z",
     "shell.execute_reply": "2022-09-24T09:06:35.867855Z",
     "shell.execute_reply.started": "2022-09-24T09:06:35.865193Z"
    },
    "id": "PAwr9I75ht6p"
   },
   "outputs": [],
   "source": [
    "cols = ['pp_sent'] # Use if you want vocab to include just review text"
   ]
  },
  {
   "cell_type": "code",
   "execution_count": 7,
   "metadata": {
    "execution": {
     "iopub.execute_input": "2022-09-24T09:06:38.751234Z",
     "iopub.status.busy": "2022-09-24T09:06:38.750506Z",
     "iopub.status.idle": "2022-09-24T09:06:38.756795Z",
     "shell.execute_reply": "2022-09-24T09:06:38.756243Z",
     "shell.execute_reply.started": "2022-09-24T09:06:38.751199Z"
    },
    "id": "RkGZqSAxhxKj"
   },
   "outputs": [],
   "source": [
    "def generate_vocab(cols):\n",
    "    global vocab_size, vocab\n",
    "    global word_to_id, id_to_word, word_to_count\n",
    "    global full_df\n",
    "    global df_mini\n",
    "    cleaned_reviews_ids = []\n",
    "    cleaned_summaries_ids = []\n",
    "    \n",
    "    for index, row in tqdm.tqdm(full_df.iterrows(), total=full_df.shape[0]):\n",
    "        for c in cols:   \n",
    "            s2n = []\n",
    "            split = str(row[c]).split()\n",
    "            \n",
    "            for word in split:\n",
    "                if word not in vocab:\n",
    "                    vocab.add(word)\n",
    "                    word_to_id[word] = vocab_size\n",
    "                    # word_to_count[word] = 1\n",
    "                    s2n.append(vocab_size)\n",
    "                    id_to_word[vocab_size] = word\n",
    "                    vocab_size += 1   \n",
    "                else:\n",
    "                    # word_to_count[word] += 1\n",
    "                    s2n.append(word_to_id[word])\n",
    "            full_df.at[index, c] = s2n\n",
    "\n",
    "   "
   ]
  },
  {
   "cell_type": "code",
   "execution_count": 8,
   "metadata": {
    "execution": {
     "iopub.execute_input": "2022-09-24T09:06:40.651901Z",
     "iopub.status.busy": "2022-09-24T09:06:40.651174Z",
     "iopub.status.idle": "2022-09-24T09:09:06.564526Z",
     "shell.execute_reply": "2022-09-24T09:09:06.563879Z",
     "shell.execute_reply.started": "2022-09-24T09:06:40.651866Z"
    },
    "id": "01SqJbzth97g"
   },
   "outputs": [
    {
     "name": "stderr",
     "output_type": "stream",
     "text": [
      "100%|██████████| 2357349/2357349 [02:25<00:00, 16179.50it/s]\n"
     ]
    }
   ],
   "source": [
    "generate_vocab(cols)"
   ]
  },
  {
   "cell_type": "code",
   "execution_count": 9,
   "metadata": {
    "execution": {
     "iopub.execute_input": "2022-09-24T09:09:06.566012Z",
     "iopub.status.busy": "2022-09-24T09:09:06.565834Z",
     "iopub.status.idle": "2022-09-24T09:09:06.569461Z",
     "shell.execute_reply": "2022-09-24T09:09:06.568963Z",
     "shell.execute_reply.started": "2022-09-24T09:09:06.566001Z"
    },
    "id": "qxh2G_baiDLN"
   },
   "outputs": [
    {
     "name": "stdout",
     "output_type": "stream",
     "text": [
      "187227\n"
     ]
    }
   ],
   "source": [
    "print(len(vocab))"
   ]
  },
  {
   "cell_type": "markdown",
   "metadata": {
    "id": "bHtj2Xh3OjSV"
   },
   "source": [
    "Split df in Train, Test, Val Split"
   ]
  },
  {
   "cell_type": "code",
   "execution_count": 10,
   "metadata": {
    "execution": {
     "iopub.execute_input": "2022-09-24T09:09:06.570821Z",
     "iopub.status.busy": "2022-09-24T09:09:06.570658Z",
     "iopub.status.idle": "2022-09-24T09:09:06.574441Z",
     "shell.execute_reply": "2022-09-24T09:09:06.573717Z",
     "shell.execute_reply.started": "2022-09-24T09:09:06.570801Z"
    },
    "id": "Bd4NQVRIhxQz"
   },
   "outputs": [],
   "source": [
    "X_train = []\n",
    "y_train = []\n",
    "X_test = []\n",
    "y_test = []\n",
    "X_val = []\n",
    "y_val = []"
   ]
  },
  {
   "cell_type": "code",
   "execution_count": 11,
   "metadata": {
    "execution": {
     "iopub.execute_input": "2022-09-24T09:09:06.575853Z",
     "iopub.status.busy": "2022-09-24T09:09:06.575693Z",
     "iopub.status.idle": "2022-09-24T09:09:06.595973Z",
     "shell.execute_reply": "2022-09-24T09:09:06.595504Z",
     "shell.execute_reply.started": "2022-09-24T09:09:06.575834Z"
    },
    "id": "magc9LOOihEQ"
   },
   "outputs": [
    {
     "data": {
      "text/plain": [
       "0"
      ]
     },
     "execution_count": 11,
     "metadata": {},
     "output_type": "execute_result"
    }
   ],
   "source": [
    "full_df['spoiler'] = full_df['spoiler'].fillna(0)\n",
    "full_df['spoiler'].isna().sum()"
   ]
  },
  {
   "cell_type": "code",
   "execution_count": 12,
   "metadata": {
    "execution": {
     "iopub.execute_input": "2022-09-24T09:09:06.597020Z",
     "iopub.status.busy": "2022-09-24T09:09:06.596862Z",
     "iopub.status.idle": "2022-09-24T09:09:06.602176Z",
     "shell.execute_reply": "2022-09-24T09:09:06.601324Z",
     "shell.execute_reply.started": "2022-09-24T09:09:06.597000Z"
    },
    "id": "Ba1jPsj_ijJf"
   },
   "outputs": [],
   "source": [
    "def split_data(cols):\n",
    "    \n",
    "    global X_train, y_train\n",
    "    global X_test, y_test\n",
    "    global X_val, y_val\n",
    "    global X_train_movie_ids, X_test_movie_ids, X_val_movie_ids\n",
    "    \n",
    "    train_ratio = 0.8 # Split into training and validation\n",
    "    test_ratio = 0.85 # Split into training and testing\n",
    "    \n",
    "    X = list(full_df['pp_sent'])\n",
    "    y = list(full_df['spoiler'].astype(int))\n",
    "    \n",
    "    X_rem, X_test, y_rem, y_test = train_test_split(X, y, train_size=test_ratio)\n",
    "    X_train, X_val, y_train, y_val = train_test_split(X_rem, y_rem, train_size=train_ratio)\n",
    "    \n",
    "    \n",
    "    # X_train = [X_train[c] for c in cols]\n",
    "    # X_val = [X_val[c] for c in cols]\n",
    "    # X_test = [X_test[c] for c in cols]\n",
    "    \n",
    "    # y_train = y_train.values\n",
    "    # y_test = y_test.values\n",
    "    # y_val = y_val.values"
   ]
  },
  {
   "cell_type": "code",
   "execution_count": 13,
   "metadata": {
    "execution": {
     "iopub.execute_input": "2022-09-24T09:09:06.603350Z",
     "iopub.status.busy": "2022-09-24T09:09:06.603204Z",
     "iopub.status.idle": "2022-09-24T09:09:10.006000Z",
     "shell.execute_reply": "2022-09-24T09:09:10.005401Z",
     "shell.execute_reply.started": "2022-09-24T09:09:06.603330Z"
    },
    "id": "vu_oRsTIinPs"
   },
   "outputs": [],
   "source": [
    "split_data(cols)"
   ]
  },
  {
   "cell_type": "code",
   "execution_count": 14,
   "metadata": {
    "execution": {
     "iopub.execute_input": "2022-09-24T09:09:10.007214Z",
     "iopub.status.busy": "2022-09-24T09:09:10.007033Z",
     "iopub.status.idle": "2022-09-24T09:09:10.011775Z",
     "shell.execute_reply": "2022-09-24T09:09:10.011040Z",
     "shell.execute_reply.started": "2022-09-24T09:09:10.007191Z"
    },
    "id": "qs_4EbTEip-b"
   },
   "outputs": [
    {
     "name": "stdout",
     "output_type": "stream",
     "text": [
      "1602996 1602996 353603 353603\n"
     ]
    }
   ],
   "source": [
    "print(len(X_train), len(y_train), len(X_test), len(y_test))"
   ]
  },
  {
   "cell_type": "code",
   "execution_count": 15,
   "metadata": {
    "execution": {
     "iopub.execute_input": "2022-09-24T09:09:10.012843Z",
     "iopub.status.busy": "2022-09-24T09:09:10.012680Z",
     "iopub.status.idle": "2022-09-24T09:09:10.016875Z",
     "shell.execute_reply": "2022-09-24T09:09:10.016184Z",
     "shell.execute_reply.started": "2022-09-24T09:09:10.012822Z"
    },
    "id": "jUqNAid0iud-"
   },
   "outputs": [],
   "source": [
    "def pad_sequences(X_list):\n",
    "    \n",
    "    X_padded = torch.nn.utils.rnn.pad_sequence([torch.as_tensor(l) for l in X_list]).type(torch.LongTensor) # padding the sequences with 0\n",
    "    X_mask   = torch.nn.utils.rnn.pad_sequence([torch.as_tensor([1.0] * len(l)) for l in X_list]).type(torch.FloatTensor)\n",
    "    \n",
    "    return X_padded, X_mask"
   ]
  },
  {
   "cell_type": "code",
   "execution_count": 16,
   "metadata": {
    "execution": {
     "iopub.execute_input": "2022-09-24T09:09:10.017877Z",
     "iopub.status.busy": "2022-09-24T09:09:10.017724Z",
     "iopub.status.idle": "2022-09-24T09:09:38.185577Z",
     "shell.execute_reply": "2022-09-24T09:09:38.185016Z",
     "shell.execute_reply.started": "2022-09-24T09:09:10.017874Z"
    },
    "id": "AJu3Bam8iwv8"
   },
   "outputs": [],
   "source": [
    "# Takes about 20 seconds to run\n",
    "X_train = pad_sequences(X_train)[0]"
   ]
  },
  {
   "cell_type": "code",
   "execution_count": 17,
   "metadata": {
    "execution": {
     "iopub.execute_input": "2022-09-24T09:09:38.188499Z",
     "iopub.status.busy": "2022-09-24T09:09:38.187551Z",
     "iopub.status.idle": "2022-09-24T09:09:50.839390Z",
     "shell.execute_reply": "2022-09-24T09:09:50.838802Z",
     "shell.execute_reply.started": "2022-09-24T09:09:38.188469Z"
    },
    "id": "LFd-59mIizVT"
   },
   "outputs": [],
   "source": [
    "X_test = pad_sequences(X_test)[0]\n",
    "X_val = pad_sequences(X_val)[0]"
   ]
  },
  {
   "cell_type": "code",
   "execution_count": 18,
   "metadata": {
    "execution": {
     "iopub.execute_input": "2022-09-24T09:09:50.840735Z",
     "iopub.status.busy": "2022-09-24T09:09:50.840546Z",
     "iopub.status.idle": "2022-09-24T09:09:50.843277Z",
     "shell.execute_reply": "2022-09-24T09:09:50.842676Z",
     "shell.execute_reply.started": "2022-09-24T09:09:50.840713Z"
    },
    "id": "chDcGNu2jvuj"
   },
   "outputs": [],
   "source": [
    "# y_train = torch.Tensor(y_train)\n",
    "# y_test = torch.Tensor(y_test)\n",
    "# y_val = torch.Tensor(y_val)"
   ]
  },
  {
   "cell_type": "code",
   "execution_count": 19,
   "metadata": {
    "execution": {
     "iopub.execute_input": "2022-09-24T09:09:50.844604Z",
     "iopub.status.busy": "2022-09-24T09:09:50.844436Z",
     "iopub.status.idle": "2022-09-24T09:09:50.848479Z",
     "shell.execute_reply": "2022-09-24T09:09:50.847967Z",
     "shell.execute_reply.started": "2022-09-24T09:09:50.844584Z"
    },
    "id": "pzXip3eVNVOG"
   },
   "outputs": [
    {
     "data": {
      "text/plain": [
       "torch.Size([122, 1602996])"
      ]
     },
     "execution_count": 19,
     "metadata": {},
     "output_type": "execute_result"
    }
   ],
   "source": [
    "X_train.shape # [max_sentence_len, num_data_points]"
   ]
  },
  {
   "cell_type": "code",
   "execution_count": 20,
   "metadata": {
    "execution": {
     "iopub.execute_input": "2022-09-24T09:09:50.849403Z",
     "iopub.status.busy": "2022-09-24T09:09:50.849250Z",
     "iopub.status.idle": "2022-09-24T09:09:50.856040Z",
     "shell.execute_reply": "2022-09-24T09:09:50.855488Z",
     "shell.execute_reply.started": "2022-09-24T09:09:50.849385Z"
    },
    "id": "4vZJ2AlgO5cs"
   },
   "outputs": [
    {
     "name": "stdout",
     "output_type": "stream",
     "text": [
      "torch.Size([1602996, 122]) torch.Size([353603, 57]) torch.Size([400750, 67])\n"
     ]
    }
   ],
   "source": [
    "X_train = X_train.T\n",
    "X_test = X_test.T\n",
    "X_val = X_val.T\n",
    "\n",
    "print(X_train.shape, X_test.shape, X_val.shape)"
   ]
  },
  {
   "cell_type": "markdown",
   "metadata": {
    "id": "aM0wleT7js1-"
   },
   "source": [
    "## Spoiler Net"
   ]
  },
  {
   "cell_type": "markdown",
   "metadata": {},
   "source": [
    "Read pretrained word vectors"
   ]
  },
  {
   "cell_type": "code",
   "execution_count": 21,
   "metadata": {
    "execution": {
     "iopub.execute_input": "2022-09-24T09:09:50.856914Z",
     "iopub.status.busy": "2022-09-24T09:09:50.856763Z",
     "iopub.status.idle": "2022-09-24T09:10:14.763947Z",
     "shell.execute_reply": "2022-09-24T09:10:14.762895Z",
     "shell.execute_reply.started": "2022-09-24T09:09:50.856896Z"
    },
    "id": "DD5CG3POgTqx"
   },
   "outputs": [
    {
     "name": "stdout",
     "output_type": "stream",
     "text": [
      "Collecting gensim\n",
      "  Downloading gensim-4.2.0-cp37-cp37m-manylinux_2_12_x86_64.manylinux2010_x86_64.whl (24.1 MB)\n",
      "\u001b[K     |████████████████████████████████| 24.1 MB 17.3 MB/s eta 0:00:01\n",
      "\u001b[?25hRequirement already satisfied: smart-open>=1.8.1 in /opt/conda/lib/python3.7/site-packages (from gensim) (5.2.1)\n",
      "Requirement already satisfied: numpy>=1.17.0 in /opt/conda/lib/python3.7/site-packages (from gensim) (1.21.2)\n",
      "Requirement already satisfied: scipy>=0.18.1 in /opt/conda/lib/python3.7/site-packages (from gensim) (1.7.2)\n",
      "Installing collected packages: gensim\n",
      "Successfully installed gensim-4.2.0\n"
     ]
    }
   ],
   "source": [
    "!pip install gensim\n",
    "import gensim\n",
    "weights = gensim.models.KeyedVectors.load_word2vec_format('logdir/word2vec_combined.wv', binary=False)\n",
    "weights = torch.FloatTensor(weights.vectors)"
   ]
  },
  {
   "cell_type": "markdown",
   "metadata": {},
   "source": [
    "The actual architecture of the net, stored in a class"
   ]
  },
  {
   "cell_type": "code",
   "execution_count": 22,
   "metadata": {
    "execution": {
     "iopub.execute_input": "2022-09-24T09:10:14.765795Z",
     "iopub.status.busy": "2022-09-24T09:10:14.765184Z",
     "iopub.status.idle": "2022-09-24T09:10:14.775928Z",
     "shell.execute_reply": "2022-09-24T09:10:14.775113Z",
     "shell.execute_reply.started": "2022-09-24T09:10:14.765766Z"
    },
    "id": "DD5CG3POgTqx"
   },
   "outputs": [],
   "source": [
    "class SpoilerNet(torch.nn.Module):\n",
    "\n",
    "    def __init__(self,vocab_size, emb_dim = 150, hid_dim = 50):\n",
    "        super(SpoilerNet, self).__init__()\n",
    "\n",
    "        # initialize parameters\n",
    "        self.EMB_DIM = emb_dim\n",
    "        self.DIM_HIDDEN = hid_dim\n",
    "        self.VOCAB_SIZE = vocab_size\n",
    "\n",
    "        # initialize layers\n",
    "\n",
    "        self.embedding = torch.nn.Embedding.from_pretrained(weights, freeze=False)\n",
    "        self.word_encoder = torch.nn.GRU(self.EMB_DIM, self.DIM_HIDDEN, bidirectional = True, batch_first = True) \n",
    "\n",
    "        ## for word attention ##\n",
    "        self.mu = torch.nn.Linear(self.DIM_HIDDEN, self.DIM_HIDDEN)\n",
    "        self.tanh = torch.nn.Tanh()\n",
    "        self.v = torch.nn.Linear(self.DIM_HIDDEN, self.DIM_HIDDEN, bias = False)\n",
    "        self.alpha = torch.nn.Softmax(dim = 1) \n",
    "\n",
    "\n",
    "        # create sentence encoder\n",
    "        self.sentence_encoder = torch.nn.GRU(self.DIM_HIDDEN, self.DIM_HIDDEN, bidirectional = True, batch_first=True)\n",
    "        self.dropout = torch.nn.Dropout(0.5) # according to paper \n",
    "        self.output = torch.nn.Linear(self.DIM_HIDDEN, 2)\n",
    "        self.activation = torch.nn.Sigmoid()\n",
    "\n",
    "\n",
    "    def forward(self, X):\n",
    "        text_embeddings = self.embedding(X) # generating text embeddings\n",
    "\n",
    "        word_enc_out, word_hn = self.word_encoder(text_embeddings) # word encoder outputs\n",
    "\n",
    "        h_w = word_enc_out[:, :, :self.DIM_HIDDEN] + word_enc_out[:, :, self.DIM_HIDDEN:] # adding output represen of both GRUs\n",
    "\n",
    "\n",
    "        # applying word attention\n",
    "\n",
    "        mu_w = self.tanh(self.mu(h_w))\n",
    "\n",
    "        v_out = self.v(mu_w)\n",
    "\n",
    "        alpha_w = self.alpha(v_out)\n",
    "\n",
    "        # input for sentence encoder\n",
    "\n",
    "        v_s = torch.sum(alpha_w * h_w, dim = 1)\n",
    "        vectorized_sentences = [v_s]\n",
    "        stacked_vectorized_sentences = torch.stack(vectorized_sentences,dim=1)\n",
    "\n",
    "        sent_enc_out, _ = self.sentence_encoder(stacked_vectorized_sentences) # sentence encoder outputs\n",
    "        h_s = sent_enc_out[:,:, :self.DIM_HIDDEN] + sent_enc_out[:,:, self.DIM_HIDDEN:] # adding output represen of both GRUs\n",
    "        \n",
    "        drop = self.dropout(h_s)\n",
    "        out = self.output(drop) # unnormalized class scores (batchSize, 2)\n",
    "        return out     \n",
    "  "
   ]
  },
  {
   "cell_type": "markdown",
   "metadata": {},
   "source": [
    "The function for predicting"
   ]
  },
  {
   "cell_type": "code",
   "execution_count": 23,
   "metadata": {
    "execution": {
     "iopub.execute_input": "2022-09-24T09:10:14.776950Z",
     "iopub.status.busy": "2022-09-24T09:10:14.776795Z",
     "iopub.status.idle": "2022-09-24T09:10:14.782533Z",
     "shell.execute_reply": "2022-09-24T09:10:14.781757Z",
     "shell.execute_reply.started": "2022-09-24T09:10:14.776932Z"
    },
    "id": "yrOtRXteYXrz"
   },
   "outputs": [],
   "source": [
    "def predict(model, x, y):\n",
    "    y_pred = []\n",
    "    y_probs = []\n",
    "    num_correct = 0\n",
    "    x = x.cuda()\n",
    "    sigmoid = torch.nn.Sigmoid()\n",
    "    for i in tqdm.tqdm(range(len(x))):\n",
    "        probs = sigmoid(model.forward(x[i].unsqueeze(0)))\n",
    "        #print(probs)\n",
    "        pred = torch.argmax(probs)\n",
    "        y_pred.append(pred.item())\n",
    "        y_probs.append(probs[0][0][1].item())\n",
    "\n",
    "        if pred == y[i]:\n",
    "            num_correct += 1\n",
    "    print(\"ROC_AUC: %s\" % roc_auc_score(y, y_probs))\n",
    "    return y_probs"
   ]
  },
  {
   "cell_type": "markdown",
   "metadata": {},
   "source": [
    "Set training parameters according to paper and train for x epochs"
   ]
  },
  {
   "cell_type": "code",
   "execution_count": 24,
   "metadata": {
    "execution": {
     "iopub.execute_input": "2022-09-24T09:10:14.783465Z",
     "iopub.status.busy": "2022-09-24T09:10:14.783314Z",
     "iopub.status.idle": "2022-09-24T09:10:24.589001Z",
     "shell.execute_reply": "2022-09-24T09:10:24.588330Z",
     "shell.execute_reply.started": "2022-09-24T09:10:14.783447Z"
    },
    "id": "yrOtRXteYXrz"
   },
   "outputs": [],
   "source": [
    "batchSize = 128 \n",
    "\n",
    "model = SpoilerNet(vocab_size).cuda()\n",
    "\n",
    "loss_func = torch.nn.CrossEntropyLoss()\n",
    "\n",
    "y_train = torch.LongTensor(y_train)\n",
    "clip = 50.0"
   ]
  },
  {
   "cell_type": "code",
   "execution_count": 25,
   "metadata": {
    "execution": {
     "iopub.execute_input": "2022-09-24T09:10:24.590785Z",
     "iopub.status.busy": "2022-09-24T09:10:24.589864Z",
     "iopub.status.idle": "2022-09-24T09:14:50.446268Z",
     "shell.execute_reply": "2022-09-24T09:14:50.445803Z",
     "shell.execute_reply.started": "2022-09-24T09:10:24.590749Z"
    },
    "id": "yrOtRXteYXrz"
   },
   "outputs": [
    {
     "name": "stderr",
     "output_type": "stream",
     "text": [
      "100%|██████████| 12524/12524 [04:25<00:00, 47.11it/s]"
     ]
    },
    {
     "name": "stdout",
     "output_type": "stream",
     "text": [
      "Loss at epoch 0 : 0.12511737762270086\t"
     ]
    },
    {
     "name": "stderr",
     "output_type": "stream",
     "text": [
      "\n"
     ]
    }
   ],
   "source": [
    "LEARNING_RATE = 1e-3\n",
    "optimizer = torch.optim.Adam(model.parameters(), lr=LEARNING_RATE)\n",
    "NUM_EPOCHS = 1\n",
    "NUM_BATCHES = len(range(0, X_train.shape[0], batchSize))\n",
    "\n",
    "for epoch in range(NUM_EPOCHS):\n",
    "    model.train()\n",
    "    total_loss = 0.0\n",
    "    for i in tqdm.tqdm(range(0, X_train.shape[0], batchSize)):\n",
    "        optimizer.zero_grad()\n",
    "        s = i\n",
    "        e = i + batchSize\n",
    "        if i + batchSize >= X_train.shape[0]:\n",
    "            e = X_train.shape[0]\n",
    "\n",
    "        X_batch = X_train[s:e, :]\n",
    "        Y_batch = y_train[s:e]\n",
    "        output = model.forward(X_batch.cuda())\n",
    "        loss = loss_func(output.squeeze(), Y_batch.cuda())\n",
    "        total_loss += loss.item()\n",
    "        loss.backward() \n",
    "        _ = torch.nn.utils.clip_grad_norm_(model.parameters(), clip) # gradient clipping\n",
    "        optimizer.step()\n",
    "    model.eval()\n",
    "    print(\"Loss at epoch\", epoch,\":\", total_loss/NUM_BATCHES, end = '\\t')\n",
    "    #_ = predict(model, X_val, y_val)"
   ]
  },
  {
   "cell_type": "markdown",
   "metadata": {},
   "source": [
    "Evaluate model by predicting testset"
   ]
  },
  {
   "cell_type": "code",
   "execution_count": 29,
   "metadata": {
    "execution": {
     "iopub.execute_input": "2022-09-24T13:35:31.767620Z",
     "iopub.status.busy": "2022-09-24T13:35:31.767092Z",
     "iopub.status.idle": "2022-09-24T13:45:34.248084Z",
     "shell.execute_reply": "2022-09-24T13:45:34.247244Z",
     "shell.execute_reply.started": "2022-09-24T13:35:31.767590Z"
    },
    "id": "9_X1RNPfv7Ij"
   },
   "outputs": [
    {
     "name": "stderr",
     "output_type": "stream",
     "text": [
      "100%|██████████| 353603/353603 [10:02<00:00, 587.15it/s]\n"
     ]
    },
    {
     "name": "stdout",
     "output_type": "stream",
     "text": [
      "ROC_AUC: 0.7512744672000229\n"
     ]
    }
   ],
   "source": [
    "model.eval()\n",
    "y_pred = predict(model, X_test, y_test)"
   ]
  },
  {
   "cell_type": "markdown",
   "metadata": {
    "id": "gvkYsddMs9gI"
   },
   "source": [
    "## Results"
   ]
  },
  {
   "cell_type": "markdown",
   "metadata": {},
   "source": [
    "With the trained model, predict the subcorpus and store the resluts to ue it in TABLEARN"
   ]
  },
  {
   "cell_type": "code",
   "execution_count": 32,
   "metadata": {
    "execution": {
     "iopub.execute_input": "2022-09-24T13:46:59.540040Z",
     "iopub.status.busy": "2022-09-24T13:46:59.539741Z",
     "iopub.status.idle": "2022-09-24T13:47:03.084035Z",
     "shell.execute_reply": "2022-09-24T13:47:03.083219Z",
     "shell.execute_reply.started": "2022-09-24T13:46:59.539982Z"
    }
   },
   "outputs": [],
   "source": [
    "validate_df = pd.read_csv(\"data/res/Context_Input.csv\")"
   ]
  },
  {
   "cell_type": "code",
   "execution_count": 33,
   "metadata": {
    "execution": {
     "iopub.execute_input": "2022-09-24T13:47:05.744985Z",
     "iopub.status.busy": "2022-09-24T13:47:05.744445Z",
     "iopub.status.idle": "2022-09-24T14:28:32.259600Z",
     "shell.execute_reply": "2022-09-24T14:28:32.258950Z",
     "shell.execute_reply.started": "2022-09-24T13:47:05.744954Z"
    }
   },
   "outputs": [
    {
     "name": "stderr",
     "output_type": "stream",
     "text": [
      "100%|██████████| 376331/376331 [00:21<00:00, 17681.11it/s]\n",
      "100%|██████████| 376331/376331 [18:35<00:00, 337.24it/s]\n"
     ]
    },
    {
     "name": "stdout",
     "output_type": "stream",
     "text": [
      "ROC_AUC: 0.7468019013992163\n"
     ]
    },
    {
     "name": "stderr",
     "output_type": "stream",
     "text": [
      "100%|██████████| 376331/376331 [00:22<00:00, 17000.19it/s]\n",
      "100%|██████████| 376331/376331 [10:42<00:00, 585.33it/s]\n"
     ]
    },
    {
     "name": "stdout",
     "output_type": "stream",
     "text": [
      "ROC_AUC: 0.6888632912201506\n"
     ]
    },
    {
     "name": "stderr",
     "output_type": "stream",
     "text": [
      "100%|██████████| 376331/376331 [00:20<00:00, 17997.84it/s]\n",
      "100%|██████████| 376331/376331 [10:44<00:00, 583.58it/s]\n"
     ]
    },
    {
     "name": "stdout",
     "output_type": "stream",
     "text": [
      "ROC_AUC: 0.711507732511432\n"
     ]
    },
    {
     "data": {
      "text/plain": [
       "(376331, 4)"
      ]
     },
     "execution_count": 33,
     "metadata": {},
     "output_type": "execute_result"
    }
   ],
   "source": [
    "y = list(validate_df['spoiler'].astype(int))\n",
    "y = torch.LongTensor(y)\n",
    "cs = [\"pp_sent\", \"next_sent\", \"prev_sent\"]\n",
    "data = {\"spoiler\":y}\n",
    "for c in cs:\n",
    "    for index, row in tqdm.tqdm(validate_df.iterrows(), total=validate_df.shape[0]):  \n",
    "        s2n = []\n",
    "        split = str(row[c]).split()\n",
    "\n",
    "        for word in split:\n",
    "            if word not in word_to_id.keys():\n",
    "                continue\n",
    "            s2n.append(word_to_id[word])\n",
    "        validate_df.at[index, c] = s2n\n",
    "    \n",
    "    X = list(validate_df[c])\n",
    "    X = pad_sequences(X)[0].T\n",
    "    probs = predict(model, X, y)\n",
    "    data[c] = probs\n",
    "save_df = pd.DataFrame(data)\n",
    "save_df.shape"
   ]
  },
  {
   "cell_type": "code",
   "execution_count": null,
   "metadata": {
    "execution": {
     "iopub.execute_input": "2022-09-24T14:32:34.136783Z",
     "iopub.status.busy": "2022-09-24T14:32:34.136193Z"
    }
   },
   "outputs": [],
   "source": [
    "save_df.to_csv(\"fastai_context.csv\")"
   ]
  },
  {
   "cell_type": "code",
   "execution_count": 27,
   "metadata": {
    "execution": {
     "iopub.execute_input": "2022-09-22T18:43:53.954312Z",
     "iopub.status.busy": "2022-09-22T18:43:53.953585Z",
     "iopub.status.idle": "2022-09-22T18:44:07.444367Z",
     "shell.execute_reply": "2022-09-22T18:44:07.443312Z",
     "shell.execute_reply.started": "2022-09-22T18:43:53.954281Z"
    }
   },
   "outputs": [],
   "source": [
    "#hide\n",
    "!pip install -Uqq fastbook\n",
    "import fastbook\n",
    "fastbook.setup_book()\n",
    "\n",
    "#hide\n",
    "from fastbook import *\n",
    "from pandas.api.types import is_string_dtype, is_numeric_dtype, is_categorical_dtype\n",
    "from fastai.tabular.all import *\n",
    "from sklearn.ensemble import RandomForestRegressor\n",
    "from sklearn.tree import DecisionTreeRegressor\n",
    "from IPython.display import Image, display_svg, SVG"
   ]
  },
  {
   "cell_type": "code",
   "execution_count": 121,
   "metadata": {
    "execution": {
     "iopub.execute_input": "2022-09-22T16:37:44.760060Z",
     "iopub.status.busy": "2022-09-22T16:37:44.759287Z",
     "iopub.status.idle": "2022-09-22T16:37:44.771340Z",
     "shell.execute_reply": "2022-09-22T16:37:44.770871Z",
     "shell.execute_reply.started": "2022-09-22T16:37:44.760024Z"
    }
   },
   "outputs": [
    {
     "data": {
      "text/html": [
       "<div>\n",
       "<style scoped>\n",
       "    .dataframe tbody tr th:only-of-type {\n",
       "        vertical-align: middle;\n",
       "    }\n",
       "\n",
       "    .dataframe tbody tr th {\n",
       "        vertical-align: top;\n",
       "    }\n",
       "\n",
       "    .dataframe thead th {\n",
       "        text-align: right;\n",
       "    }\n",
       "</style>\n",
       "<table border=\"1\" class=\"dataframe\">\n",
       "  <thead>\n",
       "    <tr style=\"text-align: right;\">\n",
       "      <th></th>\n",
       "      <th>Unnamed: 0</th>\n",
       "      <th>sent</th>\n",
       "      <th>spoiler</th>\n",
       "      <th>book_bias</th>\n",
       "      <th>user_bias</th>\n",
       "      <th>position</th>\n",
       "      <th>specificity</th>\n",
       "    </tr>\n",
       "  </thead>\n",
       "  <tbody>\n",
       "    <tr>\n",
       "      <th>0</th>\n",
       "      <td>0</td>\n",
       "      <td>This is a special book.</td>\n",
       "      <td>0</td>\n",
       "      <td>0.096429</td>\n",
       "      <td>0.143149</td>\n",
       "      <td>0.047619</td>\n",
       "      <td>0.028055</td>\n",
       "    </tr>\n",
       "    <tr>\n",
       "      <th>1</th>\n",
       "      <td>1</td>\n",
       "      <td>It started slow for about the first third, then in the middle third it started to get interesting, then the last third blew my mind.</td>\n",
       "      <td>0</td>\n",
       "      <td>0.096429</td>\n",
       "      <td>0.143149</td>\n",
       "      <td>0.095238</td>\n",
       "      <td>0.029345</td>\n",
       "    </tr>\n",
       "    <tr>\n",
       "      <th>2</th>\n",
       "      <td>2</td>\n",
       "      <td>This is what I love about good science fiction - it pushes your thinking about where things can go.</td>\n",
       "      <td>0</td>\n",
       "      <td>0.096429</td>\n",
       "      <td>0.143149</td>\n",
       "      <td>0.142857</td>\n",
       "      <td>0.022951</td>\n",
       "    </tr>\n",
       "    <tr>\n",
       "      <th>3</th>\n",
       "      <td>3</td>\n",
       "      <td>It is a 2015 Hugo winner, and translated from its original Chinese, which made it interesting in just a different way from most things I've read.</td>\n",
       "      <td>0</td>\n",
       "      <td>0.096429</td>\n",
       "      <td>0.143149</td>\n",
       "      <td>0.190476</td>\n",
       "      <td>0.024558</td>\n",
       "    </tr>\n",
       "    <tr>\n",
       "      <th>4</th>\n",
       "      <td>4</td>\n",
       "      <td>For instance the intermixing of Chinese revolutionary history - how they kept accusing people of being \"reactionaries\", etc.</td>\n",
       "      <td>0</td>\n",
       "      <td>0.096429</td>\n",
       "      <td>0.143149</td>\n",
       "      <td>0.238095</td>\n",
       "      <td>0.026657</td>\n",
       "    </tr>\n",
       "  </tbody>\n",
       "</table>\n",
       "</div>"
      ],
      "text/plain": [
       "   Unnamed: 0  \\\n",
       "0           0   \n",
       "1           1   \n",
       "2           2   \n",
       "3           3   \n",
       "4           4   \n",
       "\n",
       "                                                                                                                                                sent  \\\n",
       "0                                                                                                                            This is a special book.   \n",
       "1               It started slow for about the first third, then in the middle third it started to get interesting, then the last third blew my mind.   \n",
       "2                                                This is what I love about good science fiction - it pushes your thinking about where things can go.   \n",
       "3  It is a 2015 Hugo winner, and translated from its original Chinese, which made it interesting in just a different way from most things I've read.   \n",
       "4                       For instance the intermixing of Chinese revolutionary history - how they kept accusing people of being \"reactionaries\", etc.   \n",
       "\n",
       "   spoiler  book_bias  user_bias  position  specificity  \n",
       "0        0   0.096429   0.143149  0.047619     0.028055  \n",
       "1        0   0.096429   0.143149  0.095238     0.029345  \n",
       "2        0   0.096429   0.143149  0.142857     0.022951  \n",
       "3        0   0.096429   0.143149  0.190476     0.024558  \n",
       "4        0   0.096429   0.143149  0.238095     0.026657  "
      ]
     },
     "execution_count": 121,
     "metadata": {},
     "output_type": "execute_result"
    }
   ],
   "source": [
    "BASELINE.head()"
   ]
  },
  {
   "cell_type": "markdown",
   "metadata": {},
   "source": [
    "Also create context predictions and evaluate the model on the whole goodreads corpus"
   ]
  },
  {
   "cell_type": "code",
   "execution_count": 28,
   "metadata": {
    "execution": {
     "iopub.execute_input": "2022-09-22T18:44:07.446309Z",
     "iopub.status.busy": "2022-09-22T18:44:07.446116Z",
     "iopub.status.idle": "2022-09-22T18:44:13.348535Z",
     "shell.execute_reply": "2022-09-22T18:44:13.347625Z",
     "shell.execute_reply.started": "2022-09-22T18:44:07.446285Z"
    }
   },
   "outputs": [],
   "source": [
    "BASELINE = pd.read_csv('data/res/baseline_spoilernet.csv', low_memory=False).iloc[:100000]\n",
    "save_df[\"spoiler\"] = save_df[\"spoiler\"].astype('category')\n",
    "save_df[\"book_bias\"] = BASELINE[\"book_bias\"].fillna(0)\n",
    "save_df[\"user_bias\"] = BASELINE[\"user_bias\"].fillna(0)\n",
    "save_df[\"position\"] = BASELINE[\"position\"].fillna(0)\n",
    "save_df[\"specificity\"] = BASELINE[\"specificity\"].fillna(0)\n",
    "\n",
    "X_train, X_test = train_test_split(save_df.index, train_size=0.7)\n",
    "X_valid, X_test = train_test_split(X_test, train_size=0.5)"
   ]
  },
  {
   "cell_type": "code",
   "execution_count": 43,
   "metadata": {
    "execution": {
     "iopub.execute_input": "2022-09-22T18:56:38.688614Z",
     "iopub.status.busy": "2022-09-22T18:56:38.687880Z",
     "iopub.status.idle": "2022-09-22T18:56:38.750180Z",
     "shell.execute_reply": "2022-09-22T18:56:38.749649Z",
     "shell.execute_reply.started": "2022-09-22T18:56:38.688583Z"
    }
   },
   "outputs": [
    {
     "data": {
      "text/html": [
       "<div>\n",
       "<style scoped>\n",
       "    .dataframe tbody tr th:only-of-type {\n",
       "        vertical-align: middle;\n",
       "    }\n",
       "\n",
       "    .dataframe tbody tr th {\n",
       "        vertical-align: top;\n",
       "    }\n",
       "\n",
       "    .dataframe thead th {\n",
       "        text-align: right;\n",
       "    }\n",
       "</style>\n",
       "<table border=\"1\" class=\"dataframe\">\n",
       "  <thead>\n",
       "    <tr style=\"text-align: right;\">\n",
       "      <th></th>\n",
       "      <th>spoiler</th>\n",
       "      <th>pp_sent</th>\n",
       "      <th>pp_prev</th>\n",
       "      <th>pp_next</th>\n",
       "      <th>book_bias</th>\n",
       "      <th>user_bias</th>\n",
       "      <th>position</th>\n",
       "      <th>specificity</th>\n",
       "    </tr>\n",
       "  </thead>\n",
       "  <tbody>\n",
       "    <tr>\n",
       "      <th>0</th>\n",
       "      <td>0</td>\n",
       "      <td>0.052614</td>\n",
       "      <td>0.154097</td>\n",
       "      <td>0.046008</td>\n",
       "      <td>0.096429</td>\n",
       "      <td>0.143149</td>\n",
       "      <td>0.047619</td>\n",
       "      <td>0.028055</td>\n",
       "    </tr>\n",
       "    <tr>\n",
       "      <th>1</th>\n",
       "      <td>0</td>\n",
       "      <td>0.046008</td>\n",
       "      <td>0.052614</td>\n",
       "      <td>0.075687</td>\n",
       "      <td>0.096429</td>\n",
       "      <td>0.143149</td>\n",
       "      <td>0.095238</td>\n",
       "      <td>0.029345</td>\n",
       "    </tr>\n",
       "    <tr>\n",
       "      <th>2</th>\n",
       "      <td>0</td>\n",
       "      <td>0.075687</td>\n",
       "      <td>0.046008</td>\n",
       "      <td>0.031384</td>\n",
       "      <td>0.096429</td>\n",
       "      <td>0.143149</td>\n",
       "      <td>0.142857</td>\n",
       "      <td>0.022951</td>\n",
       "    </tr>\n",
       "    <tr>\n",
       "      <th>3</th>\n",
       "      <td>0</td>\n",
       "      <td>0.031384</td>\n",
       "      <td>0.075687</td>\n",
       "      <td>0.160323</td>\n",
       "      <td>0.096429</td>\n",
       "      <td>0.143149</td>\n",
       "      <td>0.190476</td>\n",
       "      <td>0.024558</td>\n",
       "    </tr>\n",
       "    <tr>\n",
       "      <th>4</th>\n",
       "      <td>0</td>\n",
       "      <td>0.160323</td>\n",
       "      <td>0.031384</td>\n",
       "      <td>0.086760</td>\n",
       "      <td>0.096429</td>\n",
       "      <td>0.143149</td>\n",
       "      <td>0.238095</td>\n",
       "      <td>0.026657</td>\n",
       "    </tr>\n",
       "  </tbody>\n",
       "</table>\n",
       "</div>"
      ],
      "text/plain": [
       "  spoiler   pp_sent   pp_prev   pp_next  book_bias  user_bias  position  \\\n",
       "0       0  0.052614  0.154097  0.046008   0.096429   0.143149  0.047619   \n",
       "1       0  0.046008  0.052614  0.075687   0.096429   0.143149  0.095238   \n",
       "2       0  0.075687  0.046008  0.031384   0.096429   0.143149  0.142857   \n",
       "3       0  0.031384  0.075687  0.160323   0.096429   0.143149  0.190476   \n",
       "4       0  0.160323  0.031384  0.086760   0.096429   0.143149  0.238095   \n",
       "\n",
       "   specificity  \n",
       "0     0.028055  \n",
       "1     0.029345  \n",
       "2     0.022951  \n",
       "3     0.024558  \n",
       "4     0.026657  "
      ]
     },
     "execution_count": 43,
     "metadata": {},
     "output_type": "execute_result"
    }
   ],
   "source": [
    "cont = [\"book_bias\", \"user_bias\", \"position\", \"specificity\"] #[\"pp_sent\", \"pp_prev\", \"pp_next\", \n",
    "to = TabularPandas(save_df, procs=[FillMissing], cont_names=cont, y_names=\"spoiler\", splits=[list(X_train), list(X_valid)])\n",
    "xs,y = to.train.xs,to.train.y\n",
    "valid_xs,valid_y = to.valid.xs,to.valid.y\n",
    "dls = to.dataloaders(1024)\n",
    "len(to.train),len(to.valid)\n",
    "save_df.head()"
   ]
  },
  {
   "cell_type": "code",
   "execution_count": 44,
   "metadata": {
    "execution": {
     "iopub.execute_input": "2022-09-22T18:56:40.480283Z",
     "iopub.status.busy": "2022-09-22T18:56:40.479999Z",
     "iopub.status.idle": "2022-09-22T18:56:40.496435Z",
     "shell.execute_reply": "2022-09-22T18:56:40.495920Z",
     "shell.execute_reply.started": "2022-09-22T18:56:40.480251Z"
    }
   },
   "outputs": [
    {
     "data": {
      "text/plain": [
       "tensor([ 0.5127, 20.1532])"
      ]
     },
     "execution_count": 44,
     "metadata": {},
     "output_type": "execute_result"
    }
   ],
   "source": [
    "class_count_df = save_df.iloc[:].groupby(\"spoiler\").count()\n",
    "\n",
    "n_0, n_1 = class_count_df.iloc[0, 0], class_count_df.iloc[1, 0]\n",
    "\n",
    "w_0 = (n_0 + n_1) / (2.0 * n_0)\n",
    "w_1 = (n_0 + n_1) / (2.0 * n_1)\n",
    "\n",
    "# Important: Convert Weights To Float Tensor\n",
    "class_weights=torch.FloatTensor([w_0, w_1])\n",
    "class_weights"
   ]
  },
  {
   "cell_type": "code",
   "execution_count": 45,
   "metadata": {
    "execution": {
     "iopub.execute_input": "2022-09-22T18:56:41.088441Z",
     "iopub.status.busy": "2022-09-22T18:56:41.087631Z",
     "iopub.status.idle": "2022-09-22T18:56:42.826052Z",
     "shell.execute_reply": "2022-09-22T18:56:42.825358Z",
     "shell.execute_reply.started": "2022-09-22T18:56:41.088399Z"
    }
   },
   "outputs": [
    {
     "data": {
      "text/html": [],
      "text/plain": [
       "<IPython.core.display.HTML object>"
      ]
     },
     "metadata": {},
     "output_type": "display_data"
    },
    {
     "data": {
      "text/plain": [
       "SuggestedLRs(valley=0.001737800776027143)"
      ]
     },
     "execution_count": 45,
     "metadata": {},
     "output_type": "execute_result"
    },
    {
     "data": {
      "image/png": "[encoded data removed]",
      "text/plain": [
       "<Figure size 432x288 with 1 Axes>"
      ]
     },
     "metadata": {
      "needs_background": "light"
     },
     "output_type": "display_data"
    }
   ],
   "source": [
    "roc = RocAucBinary()\n",
    "loss_func = CrossEntropyLossFlat(weight=class_weights) #\n",
    "learn = tabular_learner(dls, loss_func=loss_func, metrics=roc)\n",
    "\n",
    "learn.lr_find()"
   ]
  },
  {
   "cell_type": "code",
   "execution_count": 47,
   "metadata": {
    "execution": {
     "iopub.execute_input": "2022-09-22T18:59:50.034397Z",
     "iopub.status.busy": "2022-09-22T18:59:50.033928Z",
     "iopub.status.idle": "2022-09-22T19:00:00.402594Z",
     "shell.execute_reply": "2022-09-22T19:00:00.401982Z",
     "shell.execute_reply.started": "2022-09-22T18:59:50.034371Z"
    }
   },
   "outputs": [
    {
     "data": {
      "text/html": [
       "<table border=\"1\" class=\"dataframe\">\n",
       "  <thead>\n",
       "    <tr style=\"text-align: left;\">\n",
       "      <th>epoch</th>\n",
       "      <th>train_loss</th>\n",
       "      <th>valid_loss</th>\n",
       "      <th>roc_auc_score</th>\n",
       "      <th>time</th>\n",
       "    </tr>\n",
       "  </thead>\n",
       "  <tbody>\n",
       "    <tr>\n",
       "      <td>0</td>\n",
       "      <td>0.532328</td>\n",
       "      <td>0.524022</td>\n",
       "      <td>0.881480</td>\n",
       "      <td>00:00</td>\n",
       "    </tr>\n",
       "    <tr>\n",
       "      <td>1</td>\n",
       "      <td>0.486937</td>\n",
       "      <td>0.453811</td>\n",
       "      <td>0.888663</td>\n",
       "      <td>00:00</td>\n",
       "    </tr>\n",
       "    <tr>\n",
       "      <td>2</td>\n",
       "      <td>0.455565</td>\n",
       "      <td>0.430127</td>\n",
       "      <td>0.889557</td>\n",
       "      <td>00:00</td>\n",
       "    </tr>\n",
       "    <tr>\n",
       "      <td>3</td>\n",
       "      <td>0.436759</td>\n",
       "      <td>0.424665</td>\n",
       "      <td>0.889590</td>\n",
       "      <td>00:00</td>\n",
       "    </tr>\n",
       "    <tr>\n",
       "      <td>4</td>\n",
       "      <td>0.434340</td>\n",
       "      <td>0.422844</td>\n",
       "      <td>0.889048</td>\n",
       "      <td>00:01</td>\n",
       "    </tr>\n",
       "    <tr>\n",
       "      <td>5</td>\n",
       "      <td>0.427503</td>\n",
       "      <td>0.413976</td>\n",
       "      <td>0.892910</td>\n",
       "      <td>00:00</td>\n",
       "    </tr>\n",
       "    <tr>\n",
       "      <td>6</td>\n",
       "      <td>0.425970</td>\n",
       "      <td>0.417887</td>\n",
       "      <td>0.894153</td>\n",
       "      <td>00:01</td>\n",
       "    </tr>\n",
       "    <tr>\n",
       "      <td>7</td>\n",
       "      <td>0.420084</td>\n",
       "      <td>0.409045</td>\n",
       "      <td>0.894791</td>\n",
       "      <td>00:01</td>\n",
       "    </tr>\n",
       "    <tr>\n",
       "      <td>8</td>\n",
       "      <td>0.413746</td>\n",
       "      <td>0.409623</td>\n",
       "      <td>0.894574</td>\n",
       "      <td>00:01</td>\n",
       "    </tr>\n",
       "    <tr>\n",
       "      <td>9</td>\n",
       "      <td>0.407625</td>\n",
       "      <td>0.409342</td>\n",
       "      <td>0.894824</td>\n",
       "      <td>00:00</td>\n",
       "    </tr>\n",
       "  </tbody>\n",
       "</table>"
      ],
      "text/plain": [
       "<IPython.core.display.HTML object>"
      ]
     },
     "metadata": {},
     "output_type": "display_data"
    }
   ],
   "source": [
    "learn.fit_one_cycle(10, 0.001737800776027143)"
   ]
  },
  {
   "cell_type": "code",
   "execution_count": 48,
   "metadata": {
    "execution": {
     "iopub.execute_input": "2022-09-22T19:00:00.405180Z",
     "iopub.status.busy": "2022-09-22T19:00:00.403860Z",
     "iopub.status.idle": "2022-09-22T19:00:49.759415Z",
     "shell.execute_reply": "2022-09-22T19:00:49.758786Z",
     "shell.execute_reply.started": "2022-09-22T19:00:00.405152Z"
    }
   },
   "outputs": [
    {
     "data": {
      "text/html": [],
      "text/plain": [
       "<IPython.core.display.HTML object>"
      ]
     },
     "metadata": {},
     "output_type": "display_data"
    },
    {
     "data": {
      "text/plain": [
       "0.872031908831909"
      ]
     },
     "execution_count": 48,
     "metadata": {},
     "output_type": "execute_result"
    }
   ],
   "source": [
    "dl_test = learn.dls.test_dl(save_df.iloc[list(X_test)], bs=1024) # apply transforms\n",
    "preds,  _ = learn.get_preds(dl=dl_test) # get prediction\n",
    "trues = []\n",
    "npreds = []\n",
    "for i in range(len(preds)):\n",
    "    npreds.append(preds[i][1].item())\n",
    "    trues.append(save_df.iloc[list(X_test)][\"spoiler\"].values[i])\n",
    "from sklearn.metrics import roc_auc_score\n",
    "roc_auc_score(trues, npreds)"
   ]
  },
  {
   "cell_type": "code",
   "execution_count": 49,
   "metadata": {
    "execution": {
     "iopub.execute_input": "2022-09-22T19:00:49.760947Z",
     "iopub.status.busy": "2022-09-22T19:00:49.760404Z",
     "iopub.status.idle": "2022-09-22T19:00:49.974251Z",
     "shell.execute_reply": "2022-09-22T19:00:49.972585Z",
     "shell.execute_reply.started": "2022-09-22T19:00:49.760922Z"
    },
    "id": "t5_Q1cvt0CAy"
   },
   "outputs": [
    {
     "ename": "FileNotFoundError",
     "evalue": "[Errno 2] No such file or directory: 'models/sent_sims_clean.csv'",
     "output_type": "error",
     "traceback": [
      "\u001b[0;31m---------------------------------------------------------------------------\u001b[0m",
      "\u001b[0;31mFileNotFoundError\u001b[0m                         Traceback (most recent call last)",
      "\u001b[0;32m/tmp/ipykernel_28/2680146180.py\u001b[0m in \u001b[0;36m<module>\u001b[0;34m\u001b[0m\n\u001b[0;32m----> 1\u001b[0;31m \u001b[0mnew_df\u001b[0m \u001b[0;34m=\u001b[0m \u001b[0mpd\u001b[0m\u001b[0;34m.\u001b[0m\u001b[0mread_csv\u001b[0m\u001b[0;34m(\u001b[0m\u001b[0;34m\"models/sent_sims_clean.csv\"\u001b[0m\u001b[0;34m)\u001b[0m\u001b[0;34m\u001b[0m\u001b[0;34m\u001b[0m\u001b[0m\n\u001b[0m",
      "\u001b[0;32m/opt/conda/lib/python3.7/site-packages/pandas/util/_decorators.py\u001b[0m in \u001b[0;36mwrapper\u001b[0;34m(*args, **kwargs)\u001b[0m\n\u001b[1;32m    309\u001b[0m                     \u001b[0mstacklevel\u001b[0m\u001b[0;34m=\u001b[0m\u001b[0mstacklevel\u001b[0m\u001b[0;34m,\u001b[0m\u001b[0;34m\u001b[0m\u001b[0;34m\u001b[0m\u001b[0m\n\u001b[1;32m    310\u001b[0m                 )\n\u001b[0;32m--> 311\u001b[0;31m             \u001b[0;32mreturn\u001b[0m \u001b[0mfunc\u001b[0m\u001b[0;34m(\u001b[0m\u001b[0;34m*\u001b[0m\u001b[0margs\u001b[0m\u001b[0;34m,\u001b[0m \u001b[0;34m**\u001b[0m\u001b[0mkwargs\u001b[0m\u001b[0;34m)\u001b[0m\u001b[0;34m\u001b[0m\u001b[0;34m\u001b[0m\u001b[0m\n\u001b[0m\u001b[1;32m    312\u001b[0m \u001b[0;34m\u001b[0m\u001b[0m\n\u001b[1;32m    313\u001b[0m         \u001b[0;32mreturn\u001b[0m \u001b[0mwrapper\u001b[0m\u001b[0;34m\u001b[0m\u001b[0;34m\u001b[0m\u001b[0m\n",
      "\u001b[0;32m/opt/conda/lib/python3.7/site-packages/pandas/io/parsers/readers.py\u001b[0m in \u001b[0;36mread_csv\u001b[0;34m(filepath_or_buffer, sep, delimiter, header, names, index_col, usecols, squeeze, prefix, mangle_dupe_cols, dtype, engine, converters, true_values, false_values, skipinitialspace, skiprows, skipfooter, nrows, na_values, keep_default_na, na_filter, verbose, skip_blank_lines, parse_dates, infer_datetime_format, keep_date_col, date_parser, dayfirst, cache_dates, iterator, chunksize, compression, thousands, decimal, lineterminator, quotechar, quoting, doublequote, escapechar, comment, encoding, encoding_errors, dialect, error_bad_lines, warn_bad_lines, on_bad_lines, delim_whitespace, low_memory, memory_map, float_precision, storage_options)\u001b[0m\n\u001b[1;32m    584\u001b[0m     \u001b[0mkwds\u001b[0m\u001b[0;34m.\u001b[0m\u001b[0mupdate\u001b[0m\u001b[0;34m(\u001b[0m\u001b[0mkwds_defaults\u001b[0m\u001b[0;34m)\u001b[0m\u001b[0;34m\u001b[0m\u001b[0;34m\u001b[0m\u001b[0m\n\u001b[1;32m    585\u001b[0m \u001b[0;34m\u001b[0m\u001b[0m\n\u001b[0;32m--> 586\u001b[0;31m     \u001b[0;32mreturn\u001b[0m \u001b[0m_read\u001b[0m\u001b[0;34m(\u001b[0m\u001b[0mfilepath_or_buffer\u001b[0m\u001b[0;34m,\u001b[0m \u001b[0mkwds\u001b[0m\u001b[0;34m)\u001b[0m\u001b[0;34m\u001b[0m\u001b[0;34m\u001b[0m\u001b[0m\n\u001b[0m\u001b[1;32m    587\u001b[0m \u001b[0;34m\u001b[0m\u001b[0m\n\u001b[1;32m    588\u001b[0m \u001b[0;34m\u001b[0m\u001b[0m\n",
      "\u001b[0;32m/opt/conda/lib/python3.7/site-packages/pandas/io/parsers/readers.py\u001b[0m in \u001b[0;36m_read\u001b[0;34m(filepath_or_buffer, kwds)\u001b[0m\n\u001b[1;32m    480\u001b[0m \u001b[0;34m\u001b[0m\u001b[0m\n\u001b[1;32m    481\u001b[0m     \u001b[0;31m# Create the parser.\u001b[0m\u001b[0;34m\u001b[0m\u001b[0;34m\u001b[0m\u001b[0;34m\u001b[0m\u001b[0m\n\u001b[0;32m--> 482\u001b[0;31m     \u001b[0mparser\u001b[0m \u001b[0;34m=\u001b[0m \u001b[0mTextFileReader\u001b[0m\u001b[0;34m(\u001b[0m\u001b[0mfilepath_or_buffer\u001b[0m\u001b[0;34m,\u001b[0m \u001b[0;34m**\u001b[0m\u001b[0mkwds\u001b[0m\u001b[0;34m)\u001b[0m\u001b[0;34m\u001b[0m\u001b[0;34m\u001b[0m\u001b[0m\n\u001b[0m\u001b[1;32m    483\u001b[0m \u001b[0;34m\u001b[0m\u001b[0m\n\u001b[1;32m    484\u001b[0m     \u001b[0;32mif\u001b[0m \u001b[0mchunksize\u001b[0m \u001b[0;32mor\u001b[0m \u001b[0miterator\u001b[0m\u001b[0;34m:\u001b[0m\u001b[0;34m\u001b[0m\u001b[0;34m\u001b[0m\u001b[0m\n",
      "\u001b[0;32m/opt/conda/lib/python3.7/site-packages/pandas/io/parsers/readers.py\u001b[0m in \u001b[0;36m__init__\u001b[0;34m(self, f, engine, **kwds)\u001b[0m\n\u001b[1;32m    809\u001b[0m             \u001b[0mself\u001b[0m\u001b[0;34m.\u001b[0m\u001b[0moptions\u001b[0m\u001b[0;34m[\u001b[0m\u001b[0;34m\"has_index_names\"\u001b[0m\u001b[0;34m]\u001b[0m \u001b[0;34m=\u001b[0m \u001b[0mkwds\u001b[0m\u001b[0;34m[\u001b[0m\u001b[0;34m\"has_index_names\"\u001b[0m\u001b[0;34m]\u001b[0m\u001b[0;34m\u001b[0m\u001b[0;34m\u001b[0m\u001b[0m\n\u001b[1;32m    810\u001b[0m \u001b[0;34m\u001b[0m\u001b[0m\n\u001b[0;32m--> 811\u001b[0;31m         \u001b[0mself\u001b[0m\u001b[0;34m.\u001b[0m\u001b[0m_engine\u001b[0m \u001b[0;34m=\u001b[0m \u001b[0mself\u001b[0m\u001b[0;34m.\u001b[0m\u001b[0m_make_engine\u001b[0m\u001b[0;34m(\u001b[0m\u001b[0mself\u001b[0m\u001b[0;34m.\u001b[0m\u001b[0mengine\u001b[0m\u001b[0;34m)\u001b[0m\u001b[0;34m\u001b[0m\u001b[0;34m\u001b[0m\u001b[0m\n\u001b[0m\u001b[1;32m    812\u001b[0m \u001b[0;34m\u001b[0m\u001b[0m\n\u001b[1;32m    813\u001b[0m     \u001b[0;32mdef\u001b[0m \u001b[0mclose\u001b[0m\u001b[0;34m(\u001b[0m\u001b[0mself\u001b[0m\u001b[0;34m)\u001b[0m\u001b[0;34m:\u001b[0m\u001b[0;34m\u001b[0m\u001b[0;34m\u001b[0m\u001b[0m\n",
      "\u001b[0;32m/opt/conda/lib/python3.7/site-packages/pandas/io/parsers/readers.py\u001b[0m in \u001b[0;36m_make_engine\u001b[0;34m(self, engine)\u001b[0m\n\u001b[1;32m   1038\u001b[0m             )\n\u001b[1;32m   1039\u001b[0m         \u001b[0;31m# error: Too many arguments for \"ParserBase\"\u001b[0m\u001b[0;34m\u001b[0m\u001b[0;34m\u001b[0m\u001b[0;34m\u001b[0m\u001b[0m\n\u001b[0;32m-> 1040\u001b[0;31m         \u001b[0;32mreturn\u001b[0m \u001b[0mmapping\u001b[0m\u001b[0;34m[\u001b[0m\u001b[0mengine\u001b[0m\u001b[0;34m]\u001b[0m\u001b[0;34m(\u001b[0m\u001b[0mself\u001b[0m\u001b[0;34m.\u001b[0m\u001b[0mf\u001b[0m\u001b[0;34m,\u001b[0m \u001b[0;34m**\u001b[0m\u001b[0mself\u001b[0m\u001b[0;34m.\u001b[0m\u001b[0moptions\u001b[0m\u001b[0;34m)\u001b[0m  \u001b[0;31m# type: ignore[call-arg]\u001b[0m\u001b[0;34m\u001b[0m\u001b[0;34m\u001b[0m\u001b[0m\n\u001b[0m\u001b[1;32m   1041\u001b[0m \u001b[0;34m\u001b[0m\u001b[0m\n\u001b[1;32m   1042\u001b[0m     \u001b[0;32mdef\u001b[0m \u001b[0m_failover_to_python\u001b[0m\u001b[0;34m(\u001b[0m\u001b[0mself\u001b[0m\u001b[0;34m)\u001b[0m\u001b[0;34m:\u001b[0m\u001b[0;34m\u001b[0m\u001b[0;34m\u001b[0m\u001b[0m\n",
      "\u001b[0;32m/opt/conda/lib/python3.7/site-packages/pandas/io/parsers/c_parser_wrapper.py\u001b[0m in \u001b[0;36m__init__\u001b[0;34m(self, src, **kwds)\u001b[0m\n\u001b[1;32m     49\u001b[0m \u001b[0;34m\u001b[0m\u001b[0m\n\u001b[1;32m     50\u001b[0m         \u001b[0;31m# open handles\u001b[0m\u001b[0;34m\u001b[0m\u001b[0;34m\u001b[0m\u001b[0;34m\u001b[0m\u001b[0m\n\u001b[0;32m---> 51\u001b[0;31m         \u001b[0mself\u001b[0m\u001b[0;34m.\u001b[0m\u001b[0m_open_handles\u001b[0m\u001b[0;34m(\u001b[0m\u001b[0msrc\u001b[0m\u001b[0;34m,\u001b[0m \u001b[0mkwds\u001b[0m\u001b[0;34m)\u001b[0m\u001b[0;34m\u001b[0m\u001b[0;34m\u001b[0m\u001b[0m\n\u001b[0m\u001b[1;32m     52\u001b[0m         \u001b[0;32massert\u001b[0m \u001b[0mself\u001b[0m\u001b[0;34m.\u001b[0m\u001b[0mhandles\u001b[0m \u001b[0;32mis\u001b[0m \u001b[0;32mnot\u001b[0m \u001b[0;32mNone\u001b[0m\u001b[0;34m\u001b[0m\u001b[0;34m\u001b[0m\u001b[0m\n\u001b[1;32m     53\u001b[0m \u001b[0;34m\u001b[0m\u001b[0m\n",
      "\u001b[0;32m/opt/conda/lib/python3.7/site-packages/pandas/io/parsers/base_parser.py\u001b[0m in \u001b[0;36m_open_handles\u001b[0;34m(self, src, kwds)\u001b[0m\n\u001b[1;32m    227\u001b[0m             \u001b[0mmemory_map\u001b[0m\u001b[0;34m=\u001b[0m\u001b[0mkwds\u001b[0m\u001b[0;34m.\u001b[0m\u001b[0mget\u001b[0m\u001b[0;34m(\u001b[0m\u001b[0;34m\"memory_map\"\u001b[0m\u001b[0;34m,\u001b[0m \u001b[0;32mFalse\u001b[0m\u001b[0;34m)\u001b[0m\u001b[0;34m,\u001b[0m\u001b[0;34m\u001b[0m\u001b[0;34m\u001b[0m\u001b[0m\n\u001b[1;32m    228\u001b[0m             \u001b[0mstorage_options\u001b[0m\u001b[0;34m=\u001b[0m\u001b[0mkwds\u001b[0m\u001b[0;34m.\u001b[0m\u001b[0mget\u001b[0m\u001b[0;34m(\u001b[0m\u001b[0;34m\"storage_options\"\u001b[0m\u001b[0;34m,\u001b[0m \u001b[0;32mNone\u001b[0m\u001b[0;34m)\u001b[0m\u001b[0;34m,\u001b[0m\u001b[0;34m\u001b[0m\u001b[0;34m\u001b[0m\u001b[0m\n\u001b[0;32m--> 229\u001b[0;31m             \u001b[0merrors\u001b[0m\u001b[0;34m=\u001b[0m\u001b[0mkwds\u001b[0m\u001b[0;34m.\u001b[0m\u001b[0mget\u001b[0m\u001b[0;34m(\u001b[0m\u001b[0;34m\"encoding_errors\"\u001b[0m\u001b[0;34m,\u001b[0m \u001b[0;34m\"strict\"\u001b[0m\u001b[0;34m)\u001b[0m\u001b[0;34m,\u001b[0m\u001b[0;34m\u001b[0m\u001b[0;34m\u001b[0m\u001b[0m\n\u001b[0m\u001b[1;32m    230\u001b[0m         )\n\u001b[1;32m    231\u001b[0m \u001b[0;34m\u001b[0m\u001b[0m\n",
      "\u001b[0;32m/opt/conda/lib/python3.7/site-packages/pandas/io/common.py\u001b[0m in \u001b[0;36mget_handle\u001b[0;34m(path_or_buf, mode, encoding, compression, memory_map, is_text, errors, storage_options)\u001b[0m\n\u001b[1;32m    705\u001b[0m                 \u001b[0mencoding\u001b[0m\u001b[0;34m=\u001b[0m\u001b[0mioargs\u001b[0m\u001b[0;34m.\u001b[0m\u001b[0mencoding\u001b[0m\u001b[0;34m,\u001b[0m\u001b[0;34m\u001b[0m\u001b[0;34m\u001b[0m\u001b[0m\n\u001b[1;32m    706\u001b[0m                 \u001b[0merrors\u001b[0m\u001b[0;34m=\u001b[0m\u001b[0merrors\u001b[0m\u001b[0;34m,\u001b[0m\u001b[0;34m\u001b[0m\u001b[0;34m\u001b[0m\u001b[0m\n\u001b[0;32m--> 707\u001b[0;31m                 \u001b[0mnewline\u001b[0m\u001b[0;34m=\u001b[0m\u001b[0;34m\"\"\u001b[0m\u001b[0;34m,\u001b[0m\u001b[0;34m\u001b[0m\u001b[0;34m\u001b[0m\u001b[0m\n\u001b[0m\u001b[1;32m    708\u001b[0m             )\n\u001b[1;32m    709\u001b[0m         \u001b[0;32melse\u001b[0m\u001b[0;34m:\u001b[0m\u001b[0;34m\u001b[0m\u001b[0;34m\u001b[0m\u001b[0m\n",
      "\u001b[0;31mFileNotFoundError\u001b[0m: [Errno 2] No such file or directory: 'models/sent_sims_clean.csv'"
     ]
    }
   ],
   "source": [
    "new_df = pd.read_csv(\"data/raw/sent_sims_clean.csv\")"
   ]
  },
  {
   "cell_type": "code",
   "execution_count": 28,
   "metadata": {
    "execution": {
     "iopub.execute_input": "2022-09-21T10:12:55.848586Z",
     "iopub.status.busy": "2022-09-21T10:12:55.848139Z",
     "iopub.status.idle": "2022-09-21T10:13:18.407280Z",
     "shell.execute_reply": "2022-09-21T10:13:18.406698Z",
     "shell.execute_reply.started": "2022-09-21T10:12:55.848560Z"
    },
    "id": "6QVFtDJeRqKI"
   },
   "outputs": [
    {
     "name": "stderr",
     "output_type": "stream",
     "text": [
      "100%|██████████| 376331/376331 [00:22<00:00, 16690.55it/s]\n"
     ]
    }
   ],
   "source": [
    "c = \"pp_sent\"\n",
    "for index, row in tqdm.tqdm(new_df.iterrows(), total=new_df.shape[0]):  \n",
    "    s2n = []\n",
    "    split = str(row[c]).split()\n",
    "\n",
    "    for word in split:\n",
    "        if word not in word_to_id.keys():\n",
    "            continue\n",
    "        s2n.append(word_to_id[word])\n",
    "    new_df.at[index, c] = s2n"
   ]
  },
  {
   "cell_type": "code",
   "execution_count": 36,
   "metadata": {
    "execution": {
     "iopub.execute_input": "2022-09-21T10:32:04.937035Z",
     "iopub.status.busy": "2022-09-21T10:32:04.936458Z",
     "iopub.status.idle": "2022-09-21T10:32:09.516930Z",
     "shell.execute_reply": "2022-09-21T10:32:09.516349Z",
     "shell.execute_reply.started": "2022-09-21T10:32:04.937000Z"
    },
    "id": "duzgimaKpkfX"
   },
   "outputs": [],
   "source": [
    "X = list(new_df['pp_sent'])\n",
    "y = list(new_df['spoiler'].astype(int))\n",
    "X = pad_sequences(X)[0].T\n",
    "y = torch.LongTensor(y)"
   ]
  },
  {
   "cell_type": "code",
   "execution_count": 39,
   "metadata": {
    "execution": {
     "iopub.execute_input": "2022-09-21T10:32:37.724414Z",
     "iopub.status.busy": "2022-09-21T10:32:37.723684Z",
     "iopub.status.idle": "2022-09-21T10:51:05.718224Z",
     "shell.execute_reply": "2022-09-21T10:51:05.717346Z",
     "shell.execute_reply.started": "2022-09-21T10:32:37.724383Z"
    },
    "id": "5xXvoNRgRQDt"
   },
   "outputs": [
    {
     "name": "stdout",
     "output_type": "stream",
     "text": [
      "ROC_AUC: 0.7744750830822102\n"
     ]
    }
   ],
   "source": [
    "probs = predict(model, X, y)"
   ]
  },
  {
   "cell_type": "code",
   "execution_count": 41,
   "metadata": {
    "execution": {
     "iopub.execute_input": "2022-09-21T10:59:33.518371Z",
     "iopub.status.busy": "2022-09-21T10:59:33.517667Z",
     "iopub.status.idle": "2022-09-21T10:59:33.523584Z",
     "shell.execute_reply": "2022-09-21T10:59:33.522965Z",
     "shell.execute_reply.started": "2022-09-21T10:59:33.518338Z"
    },
    "id": "NvGQk-yRFqrY"
   },
   "outputs": [
    {
     "data": {
      "text/plain": [
       "(torch.Size([376331]), torch.Size([376331, 131]), 376331)"
      ]
     },
     "execution_count": 41,
     "metadata": {},
     "output_type": "execute_result"
    }
   ],
   "source": [
    "y.shape, X.shape, len(probs)"
   ]
  },
  {
   "cell_type": "code",
   "execution_count": 42,
   "metadata": {
    "execution": {
     "iopub.execute_input": "2022-09-21T11:01:07.387174Z",
     "iopub.status.busy": "2022-09-21T11:01:07.386478Z",
     "iopub.status.idle": "2022-09-21T11:01:08.381845Z",
     "shell.execute_reply": "2022-09-21T11:01:08.381008Z",
     "shell.execute_reply.started": "2022-09-21T11:01:07.387142Z"
    },
    "id": "f1e6XY_N1wev"
   },
   "outputs": [],
   "source": [
    "sdf = pd.DataFrame({\"spoilernet\":probs})\n",
    "sdf.to_csv(\"spoilernet.csv\")"
   ]
  },
  {
   "cell_type": "code",
   "execution_count": null,
   "metadata": {},
   "outputs": [],
   "source": []
  }
 ],
 "metadata": {
  "accelerator": "GPU",
  "colab": {
   "collapsed_sections": [],
   "name": "SpoilerNet",
   "provenance": []
  },
  "kernelspec": {
   "display_name": "Python 3 (ipykernel)",
   "language": "python",
   "name": "python3"
  },
  "language_info": {
   "codemirror_mode": {
    "name": "ipython",
    "version": 3
   },
   "file_extension": ".py",
   "mimetype": "text/x-python",
   "name": "python",
   "nbconvert_exporter": "python",
   "pygments_lexer": "ipython3",
   "version": "3.7.11"
  }
 },
 "nbformat": 4,
 "nbformat_minor": 4
}
