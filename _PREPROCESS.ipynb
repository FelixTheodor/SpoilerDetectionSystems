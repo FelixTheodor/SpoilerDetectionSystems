{
 "cells": [
  {
   "cell_type": "markdown",
   "id": "20677c1b-2bb2-49bb-9091-9152fc61f248",
   "metadata": {},
   "source": [
    "The reviews in the goodreads corpus need to be preprocessed in order to train spoilernet on it. This happens in this file"
   ]
  },
  {
   "cell_type": "code",
   "execution_count": 1,
   "id": "1d2d5aa5-1638-4354-9599-cba322393e6e",
   "metadata": {
    "execution": {
     "iopub.execute_input": "2022-09-22T16:43:11.302793Z",
     "iopub.status.busy": "2022-09-22T16:43:11.301781Z",
     "iopub.status.idle": "2022-09-22T16:43:16.597906Z",
     "shell.execute_reply": "2022-09-22T16:43:16.597179Z",
     "shell.execute_reply.started": "2022-09-22T16:43:11.302692Z"
    }
   },
   "outputs": [
    {
     "name": "stdout",
     "output_type": "stream",
     "text": [
      "Requirement already satisfied: nltk in /opt/conda/lib/python3.7/site-packages (3.7)\n",
      "Requirement already satisfied: tqdm in /opt/conda/lib/python3.7/site-packages (from nltk) (4.64.1)\n",
      "Requirement already satisfied: joblib in /opt/conda/lib/python3.7/site-packages (from nltk) (1.1.0)\n",
      "Requirement already satisfied: regex>=2021.8.3 in /opt/conda/lib/python3.7/site-packages (from nltk) (2022.9.13)\n",
      "Requirement already satisfied: click in /opt/conda/lib/python3.7/site-packages (from nltk) (8.0.3)\n",
      "Requirement already satisfied: importlib-metadata in /opt/conda/lib/python3.7/site-packages (from click->nltk) (4.8.2)\n",
      "Requirement already satisfied: typing-extensions>=3.6.4 in /opt/conda/lib/python3.7/site-packages (from importlib-metadata->click->nltk) (3.10.0.2)\n",
      "Requirement already satisfied: zipp>=0.5 in /opt/conda/lib/python3.7/site-packages (from importlib-metadata->click->nltk) (3.6.0)\n"
     ]
    },
    {
     "name": "stderr",
     "output_type": "stream",
     "text": [
      "[nltk_data] Downloading package stopwords to /root/nltk_data...\n",
      "[nltk_data]   Package stopwords is already up-to-date!\n"
     ]
    }
   ],
   "source": [
    "!pip install nltk\n",
    "import nltk\n",
    "nltk.download('stopwords')\n",
    "\n",
    "from nltk.corpus import stopwords\n",
    "import string\n",
    "import os\n",
    "import pandas as pd\n",
    "import tqdm\n",
    "\n",
    "all_words = {}\n",
    "\n",
    "def preprocess_word(w):\n",
    "    if w in all_words.keys():\n",
    "        return all_words[w]\n",
    "    word = w.lower()\n",
    "    word = word.translate(str.maketrans('', '', string.punctuation))\n",
    "    word = word.replace('“', \"\").replace(\"”\", \"\").replace(\"’\", \"\").replace(\"…\", \"\").replace(\"—\", \"\")\n",
    "    if word in stopwords.words('english'):\n",
    "        return \"\"\n",
    "    word = nltk.PorterStemmer().stem(word)\n",
    "    all_words[w] = word\n",
    "    return word\n",
    "\n",
    "def preprocess_review(rev):\n",
    "    new_prevs = []\n",
    "    new_nexts = []\n",
    "    new_sents = []\n",
    "    for sent in rev.review_sentences:\n",
    "        new_sent = \"\"\n",
    "        for w in sent[1].split():\n",
    "            w = preprocess_word(w)\n",
    "            if len(w) > 0:\n",
    "                new_sent += w + \" \"\n",
    "        new_sents.append([sent[0],new_sent[:-1]])\n",
    "    return new_sents"
   ]
  },
  {
   "cell_type": "code",
   "execution_count": 2,
   "id": "d0b7b6fa-4c1c-4775-95b4-e21915fe052a",
   "metadata": {
    "execution": {
     "iopub.execute_input": "2022-09-22T16:43:19.069708Z",
     "iopub.status.busy": "2022-09-22T16:43:19.069208Z",
     "iopub.status.idle": "2022-09-22T16:44:34.977697Z",
     "shell.execute_reply": "2022-09-22T16:44:34.976754Z",
     "shell.execute_reply.started": "2022-09-22T16:43:19.069679Z"
    }
   },
   "outputs": [],
   "source": [
    "df = pd.read_json(\"data/raw/goodreads_reviews_spoiler.json.gz\", compression='infer', lines=True)"
   ]
  },
  {
   "cell_type": "code",
   "execution_count": 3,
   "id": "67860f79-3d55-418b-a283-3532c58fd1b4",
   "metadata": {
    "execution": {
     "iopub.execute_input": "2022-09-22T16:44:34.984338Z",
     "iopub.status.busy": "2022-09-22T16:44:34.984155Z",
     "iopub.status.idle": "2022-09-22T17:38:31.296608Z",
     "shell.execute_reply": "2022-09-22T17:38:31.295776Z",
     "shell.execute_reply.started": "2022-09-22T16:44:34.984307Z"
    }
   },
   "outputs": [
    {
     "name": "stderr",
     "output_type": "stream",
     "text": [
      "  0%|          | 0/200000 [00:00<?, ?it/s]/opt/conda/lib/python3.7/site-packages/ipykernel_launcher.py:3: SettingWithCopyWarning: \n",
      "A value is trying to be set on a copy of a slice from a DataFrame\n",
      "\n",
      "See the caveats in the documentation: https://pandas.pydata.org/pandas-docs/stable/user_guide/indexing.html#returning-a-view-versus-a-copy\n",
      "  This is separate from the ipykernel package so we can avoid doing imports until\n",
      "100%|██████████| 200000/200000 [53:56<00:00, 61.80it/s]  \n"
     ]
    }
   ],
   "source": [
    "dfw = df.iloc[:200000]\n",
    "for i,review in tqdm.tqdm(dfw.iterrows(),total=dfw.shape[0]):\n",
    "    dfw.review_sentences[i] = preprocess_review(review)    "
   ]
  },
  {
   "cell_type": "code",
   "execution_count": 4,
   "id": "1d491836-b1ce-4e1d-accf-ac849ffbe4dc",
   "metadata": {
    "execution": {
     "iopub.execute_input": "2022-09-22T17:38:31.297547Z",
     "iopub.status.busy": "2022-09-22T17:38:31.297387Z",
     "iopub.status.idle": "2022-09-22T17:38:31.337451Z",
     "shell.execute_reply": "2022-09-22T17:38:31.336722Z",
     "shell.execute_reply.started": "2022-09-22T17:38:31.297533Z"
    }
   },
   "outputs": [
    {
     "data": {
      "text/html": [
       "<div>\n",
       "<style scoped>\n",
       "    .dataframe tbody tr th:only-of-type {\n",
       "        vertical-align: middle;\n",
       "    }\n",
       "\n",
       "    .dataframe tbody tr th {\n",
       "        vertical-align: top;\n",
       "    }\n",
       "\n",
       "    .dataframe thead th {\n",
       "        text-align: right;\n",
       "    }\n",
       "</style>\n",
       "<table border=\"1\" class=\"dataframe\">\n",
       "  <thead>\n",
       "    <tr style=\"text-align: right;\">\n",
       "      <th></th>\n",
       "      <th>user_id</th>\n",
       "      <th>timestamp</th>\n",
       "      <th>review_sentences</th>\n",
       "      <th>rating</th>\n",
       "      <th>has_spoiler</th>\n",
       "      <th>book_id</th>\n",
       "      <th>review_id</th>\n",
       "    </tr>\n",
       "  </thead>\n",
       "  <tbody>\n",
       "    <tr>\n",
       "      <th>0</th>\n",
       "      <td>8842281e1d1347389f2ab93d60773d4d</td>\n",
       "      <td>2017-08-30</td>\n",
       "      <td>[[0, special book], [0, start slow first third...</td>\n",
       "      <td>5</td>\n",
       "      <td>True</td>\n",
       "      <td>18245960</td>\n",
       "      <td>dfdbb7b0eb5a7e4c26d59a937e2e5feb</td>\n",
       "    </tr>\n",
       "    <tr>\n",
       "      <th>1</th>\n",
       "      <td>8842281e1d1347389f2ab93d60773d4d</td>\n",
       "      <td>2017-03-22</td>\n",
       "      <td>[[0, recommend katz], [0, avail free decemb ht...</td>\n",
       "      <td>3</td>\n",
       "      <td>False</td>\n",
       "      <td>16981</td>\n",
       "      <td>a5d2c3628987712d0e05c4f90798eb67</td>\n",
       "    </tr>\n",
       "    <tr>\n",
       "      <th>2</th>\n",
       "      <td>8842281e1d1347389f2ab93d60773d4d</td>\n",
       "      <td>2017-03-20</td>\n",
       "      <td>[[0, fun fast pace scienc fiction thriller], [...</td>\n",
       "      <td>3</td>\n",
       "      <td>True</td>\n",
       "      <td>28684704</td>\n",
       "      <td>2ede853b14dc4583f96cf5d120af636f</td>\n",
       "    </tr>\n",
       "    <tr>\n",
       "      <th>3</th>\n",
       "      <td>8842281e1d1347389f2ab93d60773d4d</td>\n",
       "      <td>2016-11-09</td>\n",
       "      <td>[[0, recommend read understand go middl americ...</td>\n",
       "      <td>0</td>\n",
       "      <td>False</td>\n",
       "      <td>27161156</td>\n",
       "      <td>ced5675e55cd9d38a524743f5c40996e</td>\n",
       "    </tr>\n",
       "    <tr>\n",
       "      <th>4</th>\n",
       "      <td>8842281e1d1347389f2ab93d60773d4d</td>\n",
       "      <td>2016-04-25</td>\n",
       "      <td>[[0, realli enjoy book lot recommend], [0, dra...</td>\n",
       "      <td>4</td>\n",
       "      <td>True</td>\n",
       "      <td>25884323</td>\n",
       "      <td>332732725863131279a8e345b63ac33e</td>\n",
       "    </tr>\n",
       "  </tbody>\n",
       "</table>\n",
       "</div>"
      ],
      "text/plain": [
       "                            user_id  timestamp  \\\n",
       "0  8842281e1d1347389f2ab93d60773d4d 2017-08-30   \n",
       "1  8842281e1d1347389f2ab93d60773d4d 2017-03-22   \n",
       "2  8842281e1d1347389f2ab93d60773d4d 2017-03-20   \n",
       "3  8842281e1d1347389f2ab93d60773d4d 2016-11-09   \n",
       "4  8842281e1d1347389f2ab93d60773d4d 2016-04-25   \n",
       "\n",
       "                                    review_sentences  rating  has_spoiler  \\\n",
       "0  [[0, special book], [0, start slow first third...       5         True   \n",
       "1  [[0, recommend katz], [0, avail free decemb ht...       3        False   \n",
       "2  [[0, fun fast pace scienc fiction thriller], [...       3         True   \n",
       "3  [[0, recommend read understand go middl americ...       0        False   \n",
       "4  [[0, realli enjoy book lot recommend], [0, dra...       4         True   \n",
       "\n",
       "    book_id                         review_id  \n",
       "0  18245960  dfdbb7b0eb5a7e4c26d59a937e2e5feb  \n",
       "1     16981  a5d2c3628987712d0e05c4f90798eb67  \n",
       "2  28684704  2ede853b14dc4583f96cf5d120af636f  \n",
       "3  27161156  ced5675e55cd9d38a524743f5c40996e  \n",
       "4  25884323  332732725863131279a8e345b63ac33e  "
      ]
     },
     "execution_count": 4,
     "metadata": {},
     "output_type": "execute_result"
    }
   ],
   "source": [
    "dfw.head()"
   ]
  },
  {
   "cell_type": "code",
   "execution_count": 5,
   "id": "25d3e516-5a02-4f0e-b96a-345ee1e7f502",
   "metadata": {
    "execution": {
     "iopub.execute_input": "2022-09-20T16:14:42.825931Z",
     "iopub.status.busy": "2022-09-20T16:14:42.825774Z",
     "iopub.status.idle": "2022-09-20T16:14:57.976698Z",
     "shell.execute_reply": "2022-09-20T16:14:57.975981Z",
     "shell.execute_reply.started": "2022-09-20T16:14:42.825910Z"
    }
   },
   "outputs": [],
   "source": [
    "#dfw.to_json(\"pp_revs.json.gz\", orient=\"records\", lines=True, compression=\"infer\")"
   ]
  },
  {
   "cell_type": "code",
   "execution_count": 5,
   "id": "f09e93c3-7bd2-4c74-a3f5-5a85b945fa7e",
   "metadata": {
    "execution": {
     "iopub.execute_input": "2022-09-22T17:43:24.232252Z",
     "iopub.status.busy": "2022-09-22T17:43:24.231575Z",
     "iopub.status.idle": "2022-09-22T17:44:44.735812Z",
     "shell.execute_reply": "2022-09-22T17:44:44.735185Z",
     "shell.execute_reply.started": "2022-09-22T17:43:24.232208Z"
    }
   },
   "outputs": [
    {
     "name": "stderr",
     "output_type": "stream",
     "text": [
      "100%|██████████| 200000/200000 [01:20<00:00, 2484.61it/s]\n"
     ]
    }
   ],
   "source": [
    "pp_sents = []\n",
    "pp_prevs = []\n",
    "pp_nexts = []\n",
    "spoiler = []\n",
    "for i,review in tqdm.tqdm(dfw.iterrows(),total=dfw.shape[0]):\n",
    "    for i in range(len(review.review_sentences)):\n",
    "        pp_sents.append(review.review_sentences[i][1])\n",
    "        spoiler.append(review.review_sentences[i][0])\n",
    "        if i != 0:\n",
    "            pp_prevs.append(review.review_sentences[i-1][1])\n",
    "        else:\n",
    "            pp_prevs.append(\"\")\n",
    "        if i != len(review.review_sentences)-1:\n",
    "            pp_nexts.append(review.review_sentences[i+1][1])\n",
    "        else:\n",
    "            pp_nexts.append(\"\")"
   ]
  },
  {
   "cell_type": "code",
   "execution_count": 6,
   "id": "1334ed99-03f8-49a2-b35a-78ce80bae882",
   "metadata": {
    "execution": {
     "iopub.execute_input": "2022-09-22T17:44:44.737279Z",
     "iopub.status.busy": "2022-09-22T17:44:44.737109Z",
     "iopub.status.idle": "2022-09-22T17:44:46.731575Z",
     "shell.execute_reply": "2022-09-22T17:44:46.730969Z",
     "shell.execute_reply.started": "2022-09-22T17:44:44.737272Z"
    }
   },
   "outputs": [],
   "source": [
    "ndf = pd.DataFrame({\"pp_sent\":pp_sents, \"spoiler\":spoiler, \"pp_prev\":pp_prevs, \"pp_next\":pp_nexts})"
   ]
  },
  {
   "cell_type": "code",
   "execution_count": 7,
   "id": "5a81ea10-0700-4b32-9b75-088e1dcff835",
   "metadata": {
    "execution": {
     "iopub.execute_input": "2022-09-22T17:44:46.732749Z",
     "iopub.status.busy": "2022-09-22T17:44:46.732578Z",
     "iopub.status.idle": "2022-09-22T17:45:17.554547Z",
     "shell.execute_reply": "2022-09-22T17:45:17.553355Z",
     "shell.execute_reply.started": "2022-09-22T17:44:46.732727Z"
    }
   },
   "outputs": [],
   "source": [
    "ndf.to_json(\"data/raw/pp_context.json.gz\", orient=\"records\", lines=True, compression=\"infer\")"
   ]
  },
  {
   "cell_type": "code",
   "execution_count": 8,
   "id": "c303919d-bf88-4a9b-9e92-a35f3e172d36",
   "metadata": {
    "execution": {
     "iopub.execute_input": "2022-09-22T17:45:17.556633Z",
     "iopub.status.busy": "2022-09-22T17:45:17.556088Z",
     "iopub.status.idle": "2022-09-22T17:45:17.561619Z",
     "shell.execute_reply": "2022-09-22T17:45:17.561003Z",
     "shell.execute_reply.started": "2022-09-22T17:45:17.556606Z"
    }
   },
   "outputs": [
    {
     "data": {
      "text/plain": [
       "(2457349, 4)"
      ]
     },
     "execution_count": 8,
     "metadata": {},
     "output_type": "execute_result"
    }
   ],
   "source": [
    "ndf.shape"
   ]
  },
  {
   "cell_type": "code",
   "execution_count": null,
   "id": "798bc8bc-cc79-4c41-9b03-1991e41cea55",
   "metadata": {},
   "outputs": [],
   "source": []
  }
 ],
 "metadata": {
  "kernelspec": {
   "display_name": "Python 3 (ipykernel)",
   "language": "python",
   "name": "python3"
  },
  "language_info": {
   "codemirror_mode": {
    "name": "ipython",
    "version": 3
   },
   "file_extension": ".py",
   "mimetype": "text/x-python",
   "name": "python",
   "nbconvert_exporter": "python",
   "pygments_lexer": "ipython3",
   "version": "3.7.11"
  }
 },
 "nbformat": 4,
 "nbformat_minor": 5
}
