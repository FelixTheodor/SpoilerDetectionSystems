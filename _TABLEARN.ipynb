{
 "cells": [
  {
   "cell_type": "markdown",
   "id": "07ed0a49-80a9-40ee-a98e-904535d59327",
   "metadata": {},
   "source": [
    "Install fastai and read all results files as input"
   ]
  },
  {
   "cell_type": "code",
   "execution_count": 2,
   "id": "d1c23f29-6ff1-4616-bef0-5d7d765ab1b8",
   "metadata": {
    "execution": {
     "iopub.execute_input": "2022-09-24T18:30:55.355898Z",
     "iopub.status.busy": "2022-09-24T18:30:55.355539Z",
     "iopub.status.idle": "2022-09-24T18:31:21.662358Z",
     "shell.execute_reply": "2022-09-24T18:31:21.661536Z",
     "shell.execute_reply.started": "2022-09-24T18:30:55.355867Z"
    }
   },
   "outputs": [],
   "source": [
    "#hide\n",
    "!pip install -Uqq fastbook\n",
    "import fastbook\n",
    "fastbook.setup_book()\n",
    "\n",
    "#hide\n",
    "from fastbook import *\n",
    "from pandas.api.types import is_string_dtype, is_numeric_dtype, is_categorical_dtype\n",
    "from fastai.tabular.all import *\n",
    "from sklearn.ensemble import RandomForestRegressor\n",
    "from sklearn.tree import DecisionTreeRegressor\n",
    "from IPython.display import Image, display_svg, SVG\n",
    "\n",
    "pd.options.display.max_rows = 20\n",
    "pd.options.display.max_columns = 8\n",
    "LDA1_ES = pd.read_csv('data/res/LDA1_ES.csv', low_memory=False)\n",
    "LDA1_VS = pd.read_csv('data/res/LDA1-TFIDF_VS.csv', low_memory=False)\n",
    "LDA10_ES = pd.read_csv('data/res/LDA10_ES.csv', low_memory=False)\n",
    "LDA10_CONTEXT_ES = pd.read_csv('data/res/LDA10_Context_ES.csv', low_memory=False)\n",
    "LDA1_CONTEXT_ES = pd.read_csv('data/res/LDA1_Context_ES.csv', low_memory=False)\n",
    "LDA10_CONTEXT_VS = pd.read_csv('data/res/LDA10_Context_VS.csv', low_memory=False)\n",
    "LDA1_CONTEXT_VS = pd.read_csv('data/res/LDA1_Context_VS.csv', low_memory=False)\n",
    "LDA10_VS = pd.read_csv('data/res/LDA10_VS.csv', low_memory=False)\n",
    "SPOILER_VS = pd.read_csv('data/res/SPOILER_VS.csv', low_memory=False)\n",
    "SPOILER_ES = pd.read_csv('data/res/SPOILER_ES.csv', low_memory=False)\n",
    "SPOILERNET = pd.read_csv('data/res/SPOILERNET_ALL.csv', low_memory=False)\n",
    "SPOILERNET_CONTEXT = pd.read_csv('data/res/fastai_context.csv', low_memory=False)\n",
    "BASELINE = pd.read_csv('data/res/BASELINE-LDA1_VS.csv', low_memory=False)"
   ]
  },
  {
   "cell_type": "code",
   "execution_count": 24,
   "id": "28244d54-73e4-49f6-91ed-d89ebeeb1f5e",
   "metadata": {
    "execution": {
     "iopub.execute_input": "2022-09-24T18:46:37.197510Z",
     "iopub.status.busy": "2022-09-24T18:46:37.197246Z",
     "iopub.status.idle": "2022-09-24T18:46:37.544158Z",
     "shell.execute_reply": "2022-09-24T18:46:37.543453Z",
     "shell.execute_reply.started": "2022-09-24T18:46:37.197480Z"
    }
   },
   "outputs": [],
   "source": [
    "df = SPOILER_VS.copy()\n",
    "df['partitition'] = BASELINE[\"partitition\"].values\n",
    "\n",
    "dep_var = 'spoiler'\n",
    "\n",
    "\n",
    "df['lda1-vs'] = LDA1_VS['sim'].values\n",
    "df['lda1-es'] = LDA1_ES['sim'].values\n",
    "df['lda1-c-es'] = LDA1_CONTEXT_ES['sim'].values\n",
    "df['lda1-c_next-es'] = LDA1_CONTEXT_ES['sim_next'].values\n",
    "df['lda1-c_prev-es'] = LDA1_CONTEXT_ES['sim_prev'].values\n",
    "df['lda1-c-vs'] = LDA1_CONTEXT_VS['sim'].values\n",
    "df['lda1-c_next-vs'] = LDA1_CONTEXT_VS['sim_next'].values\n",
    "df['lda1-c_prev-vs'] = LDA1_CONTEXT_VS['sim_prev'].values\n",
    "\n",
    "\n",
    "df['lda10_clsp-vs'] = LDA10_VS['cl_spind'].values\n",
    "df['lda10_clns-vs'] = LDA10_VS['cl_nsind'].values\n",
    "df['lda10_gn-vs'] = LDA10_VS['gn_spind'].values\n",
    "df['lda10_clsp-es'] = LDA10_ES['cl_spind'].values\n",
    "df['lda10_clns-es'] = LDA10_ES['cl_nsind'].values\n",
    "df['lda10_gn-es'] = LDA10_ES['gn_spind'].values\n",
    "df['lda10-c_clsp-es'] = LDA10_CONTEXT_ES['cl_spind'].values\n",
    "df['lda10-c_clns-es'] = LDA10_CONTEXT_ES['cl_nsind'].values\n",
    "df['lda10-c_gn-es'] = LDA10_CONTEXT_ES['gn_spind'].values\n",
    "df['lda10-c_clsp_next-es'] = LDA10_CONTEXT_ES['cl_spind'].values\n",
    "df['lda10-c_clns_next-es'] = LDA10_CONTEXT_ES['cl_nsind'].values\n",
    "df['lda10-c_gn_next-es'] = LDA10_CONTEXT_ES['gn_spind'].values\n",
    "df['lda10-c_clsp_prev-es'] = LDA10_CONTEXT_ES['cl_spind'].values\n",
    "df['lda10-c_clns_prev-es'] = LDA10_CONTEXT_ES['cl_nsind'].values\n",
    "df['lda10-c_gn_prev-es'] = LDA10_CONTEXT_ES['gn_spind'].values\n",
    "df['lda10-c_clsp-vs'] = LDA10_CONTEXT_VS['cl_spind'].values\n",
    "df['lda10-c_clns-vs'] = LDA10_CONTEXT_VS['cl_nsind'].values\n",
    "df['lda10-c_gn-vs'] = LDA10_CONTEXT_VS['gn_spind'].values\n",
    "df['lda10-c_clsp_next-vs'] = LDA10_CONTEXT_VS['cl_spind'].values\n",
    "df['lda10-c_clns_next-vs'] = LDA10_CONTEXT_VS['cl_nsind'].values\n",
    "df['lda10-c_gn_next-vs'] = LDA10_CONTEXT_VS['gn_spind'].values\n",
    "df['lda10-c_clsp_prev-vs'] = LDA10_CONTEXT_VS['cl_spind'].values\n",
    "df['lda10-c_clns_prev-vs'] = LDA10_CONTEXT_VS['cl_nsind'].values\n",
    "df['lda10-c_gn_prev-vs'] = LDA10_CONTEXT_VS['gn_spind'].values\n",
    "\n",
    "df['spoilernet'] = SPOILERNET['spoilernet'].values\n",
    "df['spoilernet_next'] = SPOILERNET_CONTEXT['next_sent'].values\n",
    "df['spoilernet_prev'] = SPOILERNET_CONTEXT['prev_sent'].values\n",
    "\n",
    "df['tfidf'] = LDA1_ES['tfidf'].values\n",
    "df['book_bias'] = BASELINE['book_bias']\n",
    "df['user_bias'] = BASELINE['user_bias']\n",
    "df['position'] = BASELINE['position']\n",
    "\n",
    "df['sent'] = LDA10_VS['sent'].values\n",
    "df['bookID'] = LDA10_VS['bookID'].values\n",
    "\n",
    "procs = [Categorify, FillMissing]\n",
    "\n",
    "condt = df.partitition=='TRN'\n",
    "condv = df.partitition=='VAL'\n",
    "condtt = df.partitition=='TST'\n",
    "train_idx = np.where(condt)[0]\n",
    "valid_idx = np.where(condv)[0]\n",
    "test_idx = np.where(condtt)[0]\n",
    "tdf = df.iloc[test_idx]\n",
    "\n",
    "splits = (list(train_idx),list(valid_idx))"
   ]
  },
  {
   "cell_type": "markdown",
   "id": "2444f80a-72bd-47f7-8f2f-f1848f7d6cda",
   "metadata": {},
   "source": [
    "Decide which corpus to use (edited =es, vanilla = vs) and which system to test (list cont contains all variables)"
   ]
  },
  {
   "cell_type": "code",
   "execution_count": 14,
   "id": "a94393ec-594b-4f6f-b776-42688b837403",
   "metadata": {
    "execution": {
     "iopub.execute_input": "2022-09-24T18:40:01.706993Z",
     "iopub.status.busy": "2022-09-24T18:40:01.706148Z",
     "iopub.status.idle": "2022-09-24T18:40:01.730409Z",
     "shell.execute_reply": "2022-09-24T18:40:01.729746Z",
     "shell.execute_reply.started": "2022-09-24T18:40:01.706962Z"
    }
   },
   "outputs": [
    {
     "data": {
      "text/plain": [
       "(['tfidf',\n",
       "  'book_bias',\n",
       "  'user_bias',\n",
       "  'position',\n",
       "  'spoilernet',\n",
       "  'spoilernet_next',\n",
       "  'spoilernet_prev'],\n",
       " [],\n",
       " 38197)"
      ]
     },
     "execution_count": 14,
     "metadata": {},
     "output_type": "execute_result"
    }
   ],
   "source": [
    "cs = \"es\"\n",
    "\n",
    "if cs != \"es\":\n",
    "    df[dep_var] = SPOILER_VS[dep_var].astype('category')\n",
    "else:\n",
    "    df[dep_var] = LDA10_ES[dep_var].astype('category')\n",
    "\n",
    "cont,cat = cont_cat_split(df, 1, dep_var=dep_var)\n",
    "#f'lda1-c_prev-{cs}',f'lda1-c_next-{cs}',f'lda1-c-{cs}'\n",
    "#'spoilernet', 'spoilernet_next', 'spoilernet_prev'\n",
    "#f'lda1-{cs}', f'lda10_clsp-{cs}', f'lda10_clns-{cs}', f'lda10_gn-{cs}'\n",
    "#f'lda1-{cs}', f'lda10-c_clsp-{cs}', f'lda10-c_clns-{cs}', f'lda10-c_gn-{cs}', \n",
    "#f'lda10-c_clsp_next-{cs}', f'lda10-c_clns_next-{cs}', f'lda10-c_gn_next-{cs}', f'lda10-c_clsp_prev-{cs}', f'lda10-c_clns_prev-{cs}', f'lda10-c_gn_prev-{cs}', \n",
    "#'tfidf', 'book_bias', 'user_bias', 'position'\n",
    "cont =['tfidf', 'book_bias', 'user_bias', 'position', 'spoilernet', 'spoilernet_next', 'spoilernet_prev']\n",
    "cat = []\n",
    "cont, cat, len(tdf)"
   ]
  },
  {
   "cell_type": "markdown",
   "id": "a50a7408-4451-4503-9e4e-60740bd6e66c",
   "metadata": {},
   "source": [
    "Create DataLoader and Class Weights"
   ]
  },
  {
   "cell_type": "code",
   "execution_count": 15,
   "id": "658988f5-d8f4-4532-b7ab-c06ec4e76c6e",
   "metadata": {
    "execution": {
     "iopub.execute_input": "2022-09-24T18:40:03.893000Z",
     "iopub.status.busy": "2022-09-24T18:40:03.892417Z",
     "iopub.status.idle": "2022-09-24T18:40:05.756148Z",
     "shell.execute_reply": "2022-09-24T18:40:05.755587Z",
     "shell.execute_reply.started": "2022-09-24T18:40:03.892972Z"
    }
   },
   "outputs": [
    {
     "data": {
      "text/plain": [
       "(265074, 73060)"
      ]
     },
     "execution_count": 15,
     "metadata": {},
     "output_type": "execute_result"
    }
   ],
   "source": [
    "to = TabularPandas(df, procs, cat, cont, y_names=dep_var, splits=splits)\n",
    "xs,y = to.train.xs,to.train.y\n",
    "valid_xs,valid_y = to.valid.xs,to.valid.y\n",
    "dls = to.dataloaders(1024)\n",
    "len(to.train),len(to.valid)"
   ]
  },
  {
   "cell_type": "code",
   "execution_count": 16,
   "id": "cc62fde4-500f-4e78-b57b-36a5f2307f47",
   "metadata": {
    "execution": {
     "iopub.execute_input": "2022-09-24T18:40:07.575960Z",
     "iopub.status.busy": "2022-09-24T18:40:07.575217Z",
     "iopub.status.idle": "2022-09-24T18:40:07.774360Z",
     "shell.execute_reply": "2022-09-24T18:40:07.773790Z",
     "shell.execute_reply.started": "2022-09-24T18:40:07.575929Z"
    }
   },
   "outputs": [
    {
     "data": {
      "text/plain": [
       "tensor([ 0.5255, 10.2901])"
      ]
     },
     "execution_count": 16,
     "metadata": {},
     "output_type": "execute_result"
    }
   ],
   "source": [
    "class_count_df = df.iloc[:].groupby(dep_var).count()\n",
    "\n",
    "n_0, n_1 = class_count_df.iloc[0, 0], class_count_df.iloc[1, 0]\n",
    "\n",
    "w_0 = (n_0 + n_1) / (2.0 * n_0)\n",
    "w_1 = (n_0 + n_1) / (2.0 * n_1)\n",
    "\n",
    "# Important: Convert Weights To Float Tensor\n",
    "class_weights=torch.FloatTensor([w_0, w_1])\n",
    "class_weights"
   ]
  },
  {
   "cell_type": "markdown",
   "id": "b80cb30b-4c9d-45a2-9b97-09e1b93d7be9",
   "metadata": {},
   "source": [
    "Find best learning rate"
   ]
  },
  {
   "cell_type": "code",
   "execution_count": 17,
   "id": "110ec65c-f7a2-4d68-9bd7-22b4f507a03e",
   "metadata": {
    "execution": {
     "iopub.execute_input": "2022-09-24T18:40:08.019155Z",
     "iopub.status.busy": "2022-09-24T18:40:08.018199Z",
     "iopub.status.idle": "2022-09-24T18:40:10.064205Z",
     "shell.execute_reply": "2022-09-24T18:40:10.063546Z",
     "shell.execute_reply.started": "2022-09-24T18:40:08.019139Z"
    }
   },
   "outputs": [
    {
     "data": {
      "text/html": [],
      "text/plain": [
       "<IPython.core.display.HTML object>"
      ]
     },
     "metadata": {},
     "output_type": "display_data"
    },
    {
     "data": {
      "text/plain": [
       "SuggestedLRs(valley=0.0012022644514217973)"
      ]
     },
     "execution_count": 17,
     "metadata": {},
     "output_type": "execute_result"
    },
    {
     "data": {
      "image/png": "[encoded data removed]",
      "text/plain": [
       "<Figure size 432x288 with 1 Axes>"
      ]
     },
     "metadata": {
      "needs_background": "light"
     },
     "output_type": "display_data"
    }
   ],
   "source": [
    "roc = RocAucBinary()\n",
    "loss_func = CrossEntropyLossFlat(weight=class_weights) #\n",
    "learn = tabular_learner(dls, loss_func=loss_func, metrics=roc)\n",
    "\n",
    "learn.lr_find()"
   ]
  },
  {
   "cell_type": "markdown",
   "id": "22bebf11-88f5-4ba4-adf3-9caa1b958918",
   "metadata": {},
   "source": [
    "Train model in 10 epochs"
   ]
  },
  {
   "cell_type": "code",
   "execution_count": 18,
   "id": "7754bab8-694b-441f-bdc0-7c9d749ef431",
   "metadata": {
    "execution": {
     "iopub.execute_input": "2022-09-24T18:40:16.965251Z",
     "iopub.status.busy": "2022-09-24T18:40:16.964413Z",
     "iopub.status.idle": "2022-09-24T18:40:57.157491Z",
     "shell.execute_reply": "2022-09-24T18:40:57.156945Z",
     "shell.execute_reply.started": "2022-09-24T18:40:16.965240Z"
    }
   },
   "outputs": [
    {
     "data": {
      "text/html": [
       "<table border=\"1\" class=\"dataframe\">\n",
       "  <thead>\n",
       "    <tr style=\"text-align: left;\">\n",
       "      <th>epoch</th>\n",
       "      <th>train_loss</th>\n",
       "      <th>valid_loss</th>\n",
       "      <th>roc_auc_score</th>\n",
       "      <th>time</th>\n",
       "    </tr>\n",
       "  </thead>\n",
       "  <tbody>\n",
       "    <tr>\n",
       "      <td>0</td>\n",
       "      <td>0.469690</td>\n",
       "      <td>0.469604</td>\n",
       "      <td>0.881681</td>\n",
       "      <td>00:03</td>\n",
       "    </tr>\n",
       "    <tr>\n",
       "      <td>1</td>\n",
       "      <td>0.426570</td>\n",
       "      <td>0.409884</td>\n",
       "      <td>0.893503</td>\n",
       "      <td>00:04</td>\n",
       "    </tr>\n",
       "    <tr>\n",
       "      <td>2</td>\n",
       "      <td>0.414312</td>\n",
       "      <td>0.406094</td>\n",
       "      <td>0.893388</td>\n",
       "      <td>00:04</td>\n",
       "    </tr>\n",
       "    <tr>\n",
       "      <td>3</td>\n",
       "      <td>0.411388</td>\n",
       "      <td>0.408632</td>\n",
       "      <td>0.890813</td>\n",
       "      <td>00:03</td>\n",
       "    </tr>\n",
       "    <tr>\n",
       "      <td>4</td>\n",
       "      <td>0.404824</td>\n",
       "      <td>0.402590</td>\n",
       "      <td>0.894031</td>\n",
       "      <td>00:04</td>\n",
       "    </tr>\n",
       "    <tr>\n",
       "      <td>5</td>\n",
       "      <td>0.407604</td>\n",
       "      <td>0.405744</td>\n",
       "      <td>0.894144</td>\n",
       "      <td>00:03</td>\n",
       "    </tr>\n",
       "    <tr>\n",
       "      <td>6</td>\n",
       "      <td>0.409857</td>\n",
       "      <td>0.408495</td>\n",
       "      <td>0.892594</td>\n",
       "      <td>00:03</td>\n",
       "    </tr>\n",
       "    <tr>\n",
       "      <td>7</td>\n",
       "      <td>0.398652</td>\n",
       "      <td>0.404742</td>\n",
       "      <td>0.892971</td>\n",
       "      <td>00:03</td>\n",
       "    </tr>\n",
       "    <tr>\n",
       "      <td>8</td>\n",
       "      <td>0.403491</td>\n",
       "      <td>0.404674</td>\n",
       "      <td>0.893089</td>\n",
       "      <td>00:04</td>\n",
       "    </tr>\n",
       "    <tr>\n",
       "      <td>9</td>\n",
       "      <td>0.407724</td>\n",
       "      <td>0.402662</td>\n",
       "      <td>0.893273</td>\n",
       "      <td>00:04</td>\n",
       "    </tr>\n",
       "  </tbody>\n",
       "</table>"
      ],
      "text/plain": [
       "<IPython.core.display.HTML object>"
      ]
     },
     "metadata": {},
     "output_type": "display_data"
    }
   ],
   "source": [
    "learn.fit_one_cycle(10,0.0012022644514217973)"
   ]
  },
  {
   "cell_type": "markdown",
   "id": "73728d29-a894-4f34-859a-913cd88ef7b0",
   "metadata": {},
   "source": [
    "Create test batch and predict it, measure result score and (optional) store results in file"
   ]
  },
  {
   "cell_type": "code",
   "execution_count": 19,
   "id": "f54a537c-8031-4bf2-b59b-d92c3e21b412",
   "metadata": {
    "execution": {
     "iopub.execute_input": "2022-09-24T18:40:57.158919Z",
     "iopub.status.busy": "2022-09-24T18:40:57.158723Z",
     "iopub.status.idle": "2022-09-24T18:40:57.768033Z",
     "shell.execute_reply": "2022-09-24T18:40:57.767532Z",
     "shell.execute_reply.started": "2022-09-24T18:40:57.158897Z"
    }
   },
   "outputs": [
    {
     "data": {
      "text/html": [],
      "text/plain": [
       "<IPython.core.display.HTML object>"
      ]
     },
     "metadata": {},
     "output_type": "display_data"
    },
    {
     "data": {
      "text/plain": [
       "(38197, 38197, 0, 0.006385476794093847)"
      ]
     },
     "execution_count": 19,
     "metadata": {},
     "output_type": "execute_result"
    }
   ],
   "source": [
    "dl = learn.dls.test_dl(tdf, bs=1024) # apply transforms\n",
    "preds,  _ = learn.get_preds(dl=dl) # get prediction\n",
    "trues = []\n",
    "npreds = []\n",
    "sents = []\n",
    "for i in range(len(preds)):\n",
    "    npreds.append(preds[i][1].item())\n",
    "    trues.append(tdf[dep_var].values[i])\n",
    "len(trues), len(preds), len(sents), npreds[0]"
   ]
  },
  {
   "cell_type": "code",
   "execution_count": 20,
   "id": "942df564-1f0a-418c-a45d-7cf95d8da6fd",
   "metadata": {
    "execution": {
     "iopub.execute_input": "2022-09-24T18:40:57.769007Z",
     "iopub.status.busy": "2022-09-24T18:40:57.768841Z",
     "iopub.status.idle": "2022-09-24T18:40:57.792273Z",
     "shell.execute_reply": "2022-09-24T18:40:57.791616Z",
     "shell.execute_reply.started": "2022-09-24T18:40:57.768986Z"
    }
   },
   "outputs": [
    {
     "data": {
      "text/plain": [
       "0.8781309166870636"
      ]
     },
     "execution_count": 20,
     "metadata": {},
     "output_type": "execute_result"
    }
   ],
   "source": [
    "from sklearn.metrics import roc_auc_score\n",
    "roc_auc_score(trues, npreds)"
   ]
  },
  {
   "cell_type": "code",
   "execution_count": 13,
   "id": "2c0ecedd-93ee-4f7e-a57b-384d64caf8e7",
   "metadata": {
    "execution": {
     "iopub.execute_input": "2022-09-24T18:39:33.788327Z",
     "iopub.status.busy": "2022-09-24T18:39:33.788066Z",
     "iopub.status.idle": "2022-09-24T18:39:33.808556Z",
     "shell.execute_reply": "2022-09-24T18:39:33.807799Z",
     "shell.execute_reply.started": "2022-09-24T18:39:33.788285Z"
    }
   },
   "outputs": [],
   "source": [
    "df_to_sort = pd.DataFrame({\"sent\":tdf.sent.values, \"spoiler\":trues, \"lda\":npreds})\n",
    "#df_to_sort.to_csv(\"results.csv\")"
   ]
  },
  {
   "cell_type": "code",
   "execution_count": 25,
   "id": "c40c6e93-d5c3-43ac-affa-5a12fc3207b0",
   "metadata": {
    "execution": {
     "iopub.execute_input": "2022-09-24T18:46:59.626284Z",
     "iopub.status.busy": "2022-09-24T18:46:59.626036Z",
     "iopub.status.idle": "2022-09-24T18:46:59.631077Z",
     "shell.execute_reply": "2022-09-24T18:46:59.630410Z",
     "shell.execute_reply.started": "2022-09-24T18:46:59.626258Z"
    }
   },
   "outputs": [],
   "source": [
    "df_to_sort['bookID'] = tdf.bookID.values"
   ]
  },
  {
   "cell_type": "code",
   "execution_count": 26,
   "id": "8eed765b-235e-4335-8b88-2d6380d59b0b",
   "metadata": {
    "execution": {
     "iopub.execute_input": "2022-09-24T18:47:00.619473Z",
     "iopub.status.busy": "2022-09-24T18:47:00.619216Z",
     "iopub.status.idle": "2022-09-24T18:47:01.231739Z",
     "shell.execute_reply": "2022-09-24T18:47:01.230560Z",
     "shell.execute_reply.started": "2022-09-24T18:47:00.619453Z"
    }
   },
   "outputs": [],
   "source": [
    "df_to_sort.to_csv(\"results.csv\")"
   ]
  },
  {
   "cell_type": "code",
   "execution_count": null,
   "id": "6cf3f439-d5da-469e-bbaa-0fd5ba5f16cc",
   "metadata": {},
   "outputs": [],
   "source": []
  }
 ],
 "metadata": {
  "kernelspec": {
   "display_name": "Python 3 (ipykernel)",
   "language": "python",
   "name": "python3"
  },
  "language_info": {
   "codemirror_mode": {
    "name": "ipython",
    "version": 3
   },
   "file_extension": ".py",
   "mimetype": "text/x-python",
   "name": "python",
   "nbconvert_exporter": "python",
   "pygments_lexer": "ipython3",
   "version": "3.7.11"
  }
 },
 "nbformat": 4,
 "nbformat_minor": 5
}
